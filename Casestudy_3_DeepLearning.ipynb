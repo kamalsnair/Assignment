{
  "nbformat": 4,
  "nbformat_minor": 0,
  "metadata": {
    "colab": {
      "provenance": [],
      "authorship_tag": "ABX9TyO7vK6Fz1V2AW/hI2dQpg9a",
      "include_colab_link": true
    },
    "kernelspec": {
      "name": "python3",
      "display_name": "Python 3"
    },
    "language_info": {
      "name": "python"
    }
  },
  "cells": [
    {
      "cell_type": "markdown",
      "metadata": {
        "id": "view-in-github",
        "colab_type": "text"
      },
      "source": [
        "<a href=\"https://colab.research.google.com/github/kamalsnair/Assignment/blob/main/Casestudy_3_DeepLearning.ipynb\" target=\"_parent\"><img src=\"https://colab.research.google.com/assets/colab-badge.svg\" alt=\"Open In Colab\"/></a>"
      ]
    },
    {
      "cell_type": "markdown",
      "source": [
        "\n",
        "Build a best deep learning classification model. fine tune the parameters. Do necessary preprocessing before building deep learning models\n",
        "\n",
        "loan_status is your target variable\n",
        "\n",
        "\n",
        "\n",
        "\n"
      ],
      "metadata": {
        "id": "-m34Ad-Qm9r3"
      }
    },
    {
      "cell_type": "code",
      "execution_count": 1,
      "metadata": {
        "id": "JlksqZWaBHNd"
      },
      "outputs": [],
      "source": [
        "import pandas as pd\n",
        "import numpy as np\n",
        "import matplotlib.pyplot as plt\n",
        "import seaborn as sns\n",
        "%matplotlib inline"
      ]
    },
    {
      "cell_type": "code",
      "source": [
        "data=pd.read_csv('/content/loan-processed.csv')"
      ],
      "metadata": {
        "id": "rFMO12V1EY12"
      },
      "execution_count": 2,
      "outputs": []
    },
    {
      "cell_type": "code",
      "source": [
        "data.head()"
      ],
      "metadata": {
        "id": "uUkeeUaRmNCa",
        "colab": {
          "base_uri": "https://localhost:8080/",
          "height": 386
        },
        "outputId": "514e0447-cd0c-4559-cf60-b2ee4f508e5d"
      },
      "execution_count": 3,
      "outputs": [
        {
          "output_type": "execute_result",
          "data": {
            "text/plain": [
              "   loan_amnt  funded_amnt  funded_amnt_inv        term  int_rate  installment  \\\n",
              "0       5000         5000           4975.0   36 months     10.65       162.87   \n",
              "1       2500         2500           2500.0   60 months     15.27        59.83   \n",
              "2       2400         2400           2400.0   36 months     15.96        84.33   \n",
              "3      10000        10000          10000.0   36 months     13.49       339.31   \n",
              "4       5000         5000           5000.0   36 months      7.90       156.46   \n",
              "\n",
              "  grade sub_grade  emp_length home_ownership  ...  total_rec_late_fee  \\\n",
              "0     B        B2          10           RENT  ...                0.00   \n",
              "1     C        C4           1           RENT  ...                0.00   \n",
              "2     C        C5          10           RENT  ...                0.00   \n",
              "3     C        C1          10           RENT  ...               16.97   \n",
              "4     A        A4           3           RENT  ...                0.00   \n",
              "\n",
              "  recoveries collection_recovery_fee  last_pymnt_amnt  \\\n",
              "0       0.00                    0.00           171.62   \n",
              "1     117.08                    1.11           119.66   \n",
              "2       0.00                    0.00           649.91   \n",
              "3       0.00                    0.00           357.48   \n",
              "4       0.00                    0.00           161.03   \n",
              "\n",
              "   chargeoff_within_12_mths  pub_rec_bankruptcies  tax_liens  isd_month  \\\n",
              "0                       0.0                   0.0        0.0         12   \n",
              "1                       0.0                   0.0        0.0         12   \n",
              "2                       0.0                   0.0        0.0         12   \n",
              "3                       0.0                   0.0        0.0         12   \n",
              "4                       0.0                   0.0        0.0         12   \n",
              "\n",
              "   isd_year  loan_status  \n",
              "0      2011   Fully Paid  \n",
              "1      2011  Charged Off  \n",
              "2      2011   Fully Paid  \n",
              "3      2011   Fully Paid  \n",
              "4      2011   Fully Paid  \n",
              "\n",
              "[5 rows x 35 columns]"
            ],
            "text/html": [
              "\n",
              "  <div id=\"df-5ad74d78-f3eb-4da0-9215-0f1b55cf6059\">\n",
              "    <div class=\"colab-df-container\">\n",
              "      <div>\n",
              "<style scoped>\n",
              "    .dataframe tbody tr th:only-of-type {\n",
              "        vertical-align: middle;\n",
              "    }\n",
              "\n",
              "    .dataframe tbody tr th {\n",
              "        vertical-align: top;\n",
              "    }\n",
              "\n",
              "    .dataframe thead th {\n",
              "        text-align: right;\n",
              "    }\n",
              "</style>\n",
              "<table border=\"1\" class=\"dataframe\">\n",
              "  <thead>\n",
              "    <tr style=\"text-align: right;\">\n",
              "      <th></th>\n",
              "      <th>loan_amnt</th>\n",
              "      <th>funded_amnt</th>\n",
              "      <th>funded_amnt_inv</th>\n",
              "      <th>term</th>\n",
              "      <th>int_rate</th>\n",
              "      <th>installment</th>\n",
              "      <th>grade</th>\n",
              "      <th>sub_grade</th>\n",
              "      <th>emp_length</th>\n",
              "      <th>home_ownership</th>\n",
              "      <th>...</th>\n",
              "      <th>total_rec_late_fee</th>\n",
              "      <th>recoveries</th>\n",
              "      <th>collection_recovery_fee</th>\n",
              "      <th>last_pymnt_amnt</th>\n",
              "      <th>chargeoff_within_12_mths</th>\n",
              "      <th>pub_rec_bankruptcies</th>\n",
              "      <th>tax_liens</th>\n",
              "      <th>isd_month</th>\n",
              "      <th>isd_year</th>\n",
              "      <th>loan_status</th>\n",
              "    </tr>\n",
              "  </thead>\n",
              "  <tbody>\n",
              "    <tr>\n",
              "      <th>0</th>\n",
              "      <td>5000</td>\n",
              "      <td>5000</td>\n",
              "      <td>4975.0</td>\n",
              "      <td>36 months</td>\n",
              "      <td>10.65</td>\n",
              "      <td>162.87</td>\n",
              "      <td>B</td>\n",
              "      <td>B2</td>\n",
              "      <td>10</td>\n",
              "      <td>RENT</td>\n",
              "      <td>...</td>\n",
              "      <td>0.00</td>\n",
              "      <td>0.00</td>\n",
              "      <td>0.00</td>\n",
              "      <td>171.62</td>\n",
              "      <td>0.0</td>\n",
              "      <td>0.0</td>\n",
              "      <td>0.0</td>\n",
              "      <td>12</td>\n",
              "      <td>2011</td>\n",
              "      <td>Fully Paid</td>\n",
              "    </tr>\n",
              "    <tr>\n",
              "      <th>1</th>\n",
              "      <td>2500</td>\n",
              "      <td>2500</td>\n",
              "      <td>2500.0</td>\n",
              "      <td>60 months</td>\n",
              "      <td>15.27</td>\n",
              "      <td>59.83</td>\n",
              "      <td>C</td>\n",
              "      <td>C4</td>\n",
              "      <td>1</td>\n",
              "      <td>RENT</td>\n",
              "      <td>...</td>\n",
              "      <td>0.00</td>\n",
              "      <td>117.08</td>\n",
              "      <td>1.11</td>\n",
              "      <td>119.66</td>\n",
              "      <td>0.0</td>\n",
              "      <td>0.0</td>\n",
              "      <td>0.0</td>\n",
              "      <td>12</td>\n",
              "      <td>2011</td>\n",
              "      <td>Charged Off</td>\n",
              "    </tr>\n",
              "    <tr>\n",
              "      <th>2</th>\n",
              "      <td>2400</td>\n",
              "      <td>2400</td>\n",
              "      <td>2400.0</td>\n",
              "      <td>36 months</td>\n",
              "      <td>15.96</td>\n",
              "      <td>84.33</td>\n",
              "      <td>C</td>\n",
              "      <td>C5</td>\n",
              "      <td>10</td>\n",
              "      <td>RENT</td>\n",
              "      <td>...</td>\n",
              "      <td>0.00</td>\n",
              "      <td>0.00</td>\n",
              "      <td>0.00</td>\n",
              "      <td>649.91</td>\n",
              "      <td>0.0</td>\n",
              "      <td>0.0</td>\n",
              "      <td>0.0</td>\n",
              "      <td>12</td>\n",
              "      <td>2011</td>\n",
              "      <td>Fully Paid</td>\n",
              "    </tr>\n",
              "    <tr>\n",
              "      <th>3</th>\n",
              "      <td>10000</td>\n",
              "      <td>10000</td>\n",
              "      <td>10000.0</td>\n",
              "      <td>36 months</td>\n",
              "      <td>13.49</td>\n",
              "      <td>339.31</td>\n",
              "      <td>C</td>\n",
              "      <td>C1</td>\n",
              "      <td>10</td>\n",
              "      <td>RENT</td>\n",
              "      <td>...</td>\n",
              "      <td>16.97</td>\n",
              "      <td>0.00</td>\n",
              "      <td>0.00</td>\n",
              "      <td>357.48</td>\n",
              "      <td>0.0</td>\n",
              "      <td>0.0</td>\n",
              "      <td>0.0</td>\n",
              "      <td>12</td>\n",
              "      <td>2011</td>\n",
              "      <td>Fully Paid</td>\n",
              "    </tr>\n",
              "    <tr>\n",
              "      <th>4</th>\n",
              "      <td>5000</td>\n",
              "      <td>5000</td>\n",
              "      <td>5000.0</td>\n",
              "      <td>36 months</td>\n",
              "      <td>7.90</td>\n",
              "      <td>156.46</td>\n",
              "      <td>A</td>\n",
              "      <td>A4</td>\n",
              "      <td>3</td>\n",
              "      <td>RENT</td>\n",
              "      <td>...</td>\n",
              "      <td>0.00</td>\n",
              "      <td>0.00</td>\n",
              "      <td>0.00</td>\n",
              "      <td>161.03</td>\n",
              "      <td>0.0</td>\n",
              "      <td>0.0</td>\n",
              "      <td>0.0</td>\n",
              "      <td>12</td>\n",
              "      <td>2011</td>\n",
              "      <td>Fully Paid</td>\n",
              "    </tr>\n",
              "  </tbody>\n",
              "</table>\n",
              "<p>5 rows × 35 columns</p>\n",
              "</div>\n",
              "      <button class=\"colab-df-convert\" onclick=\"convertToInteractive('df-5ad74d78-f3eb-4da0-9215-0f1b55cf6059')\"\n",
              "              title=\"Convert this dataframe to an interactive table.\"\n",
              "              style=\"display:none;\">\n",
              "        \n",
              "  <svg xmlns=\"http://www.w3.org/2000/svg\" height=\"24px\"viewBox=\"0 0 24 24\"\n",
              "       width=\"24px\">\n",
              "    <path d=\"M0 0h24v24H0V0z\" fill=\"none\"/>\n",
              "    <path d=\"M18.56 5.44l.94 2.06.94-2.06 2.06-.94-2.06-.94-.94-2.06-.94 2.06-2.06.94zm-11 1L8.5 8.5l.94-2.06 2.06-.94-2.06-.94L8.5 2.5l-.94 2.06-2.06.94zm10 10l.94 2.06.94-2.06 2.06-.94-2.06-.94-.94-2.06-.94 2.06-2.06.94z\"/><path d=\"M17.41 7.96l-1.37-1.37c-.4-.4-.92-.59-1.43-.59-.52 0-1.04.2-1.43.59L10.3 9.45l-7.72 7.72c-.78.78-.78 2.05 0 2.83L4 21.41c.39.39.9.59 1.41.59.51 0 1.02-.2 1.41-.59l7.78-7.78 2.81-2.81c.8-.78.8-2.07 0-2.86zM5.41 20L4 18.59l7.72-7.72 1.47 1.35L5.41 20z\"/>\n",
              "  </svg>\n",
              "      </button>\n",
              "      \n",
              "  <style>\n",
              "    .colab-df-container {\n",
              "      display:flex;\n",
              "      flex-wrap:wrap;\n",
              "      gap: 12px;\n",
              "    }\n",
              "\n",
              "    .colab-df-convert {\n",
              "      background-color: #E8F0FE;\n",
              "      border: none;\n",
              "      border-radius: 50%;\n",
              "      cursor: pointer;\n",
              "      display: none;\n",
              "      fill: #1967D2;\n",
              "      height: 32px;\n",
              "      padding: 0 0 0 0;\n",
              "      width: 32px;\n",
              "    }\n",
              "\n",
              "    .colab-df-convert:hover {\n",
              "      background-color: #E2EBFA;\n",
              "      box-shadow: 0px 1px 2px rgba(60, 64, 67, 0.3), 0px 1px 3px 1px rgba(60, 64, 67, 0.15);\n",
              "      fill: #174EA6;\n",
              "    }\n",
              "\n",
              "    [theme=dark] .colab-df-convert {\n",
              "      background-color: #3B4455;\n",
              "      fill: #D2E3FC;\n",
              "    }\n",
              "\n",
              "    [theme=dark] .colab-df-convert:hover {\n",
              "      background-color: #434B5C;\n",
              "      box-shadow: 0px 1px 3px 1px rgba(0, 0, 0, 0.15);\n",
              "      filter: drop-shadow(0px 1px 2px rgba(0, 0, 0, 0.3));\n",
              "      fill: #FFFFFF;\n",
              "    }\n",
              "  </style>\n",
              "\n",
              "      <script>\n",
              "        const buttonEl =\n",
              "          document.querySelector('#df-5ad74d78-f3eb-4da0-9215-0f1b55cf6059 button.colab-df-convert');\n",
              "        buttonEl.style.display =\n",
              "          google.colab.kernel.accessAllowed ? 'block' : 'none';\n",
              "\n",
              "        async function convertToInteractive(key) {\n",
              "          const element = document.querySelector('#df-5ad74d78-f3eb-4da0-9215-0f1b55cf6059');\n",
              "          const dataTable =\n",
              "            await google.colab.kernel.invokeFunction('convertToInteractive',\n",
              "                                                     [key], {});\n",
              "          if (!dataTable) return;\n",
              "\n",
              "          const docLinkHtml = 'Like what you see? Visit the ' +\n",
              "            '<a target=\"_blank\" href=https://colab.research.google.com/notebooks/data_table.ipynb>data table notebook</a>'\n",
              "            + ' to learn more about interactive tables.';\n",
              "          element.innerHTML = '';\n",
              "          dataTable['output_type'] = 'display_data';\n",
              "          await google.colab.output.renderOutput(dataTable, element);\n",
              "          const docLink = document.createElement('div');\n",
              "          docLink.innerHTML = docLinkHtml;\n",
              "          element.appendChild(docLink);\n",
              "        }\n",
              "      </script>\n",
              "    </div>\n",
              "  </div>\n",
              "  "
            ]
          },
          "metadata": {},
          "execution_count": 3
        }
      ]
    },
    {
      "cell_type": "code",
      "source": [
        "data.columns"
      ],
      "metadata": {
        "colab": {
          "base_uri": "https://localhost:8080/",
          "height": 0
        },
        "id": "p47ro7tcnUWY",
        "outputId": "a5c94cf0-6263-4316-d56b-27f94a1f3888"
      },
      "execution_count": 4,
      "outputs": [
        {
          "output_type": "execute_result",
          "data": {
            "text/plain": [
              "Index(['loan_amnt', 'funded_amnt', 'funded_amnt_inv', 'term', 'int_rate',\n",
              "       'installment', 'grade', 'sub_grade', 'emp_length', 'home_ownership',\n",
              "       'annual_inc', 'verification_status', 'purpose', 'dti', 'delinq_2yrs',\n",
              "       'inq_last_6mths', 'open_acc', 'pub_rec', 'revol_bal', 'revol_util',\n",
              "       'total_acc', 'total_pymnt', 'total_pymnt_inv', 'total_rec_prncp',\n",
              "       'total_rec_int', 'total_rec_late_fee', 'recoveries',\n",
              "       'collection_recovery_fee', 'last_pymnt_amnt',\n",
              "       'chargeoff_within_12_mths', 'pub_rec_bankruptcies', 'tax_liens',\n",
              "       'isd_month', 'isd_year', 'loan_status'],\n",
              "      dtype='object')"
            ]
          },
          "metadata": {},
          "execution_count": 4
        }
      ]
    },
    {
      "cell_type": "code",
      "source": [
        "data['loan_status']"
      ],
      "metadata": {
        "colab": {
          "base_uri": "https://localhost:8080/",
          "height": 0
        },
        "id": "d6f-kEGpncjH",
        "outputId": "53dbba45-b015-4ae1-c586-ceffb65010c4"
      },
      "execution_count": 5,
      "outputs": [
        {
          "output_type": "execute_result",
          "data": {
            "text/plain": [
              "0         Fully Paid\n",
              "1        Charged Off\n",
              "2         Fully Paid\n",
              "3         Fully Paid\n",
              "4         Fully Paid\n",
              "            ...     \n",
              "37539     Fully Paid\n",
              "37540     Fully Paid\n",
              "37541     Fully Paid\n",
              "37542     Fully Paid\n",
              "37543     Fully Paid\n",
              "Name: loan_status, Length: 37544, dtype: object"
            ]
          },
          "metadata": {},
          "execution_count": 5
        }
      ]
    },
    {
      "cell_type": "code",
      "source": [
        "data.isna().sum()"
      ],
      "metadata": {
        "colab": {
          "base_uri": "https://localhost:8080/",
          "height": 0
        },
        "id": "xSgce16f7LZK",
        "outputId": "f65cb5cc-dc37-4b57-a832-129591e42c3c"
      },
      "execution_count": 6,
      "outputs": [
        {
          "output_type": "execute_result",
          "data": {
            "text/plain": [
              "loan_amnt                     0\n",
              "funded_amnt                   0\n",
              "funded_amnt_inv               0\n",
              "term                          0\n",
              "int_rate                      0\n",
              "installment                   0\n",
              "grade                         0\n",
              "sub_grade                     0\n",
              "emp_length                    0\n",
              "home_ownership                0\n",
              "annual_inc                    0\n",
              "verification_status           0\n",
              "purpose                       0\n",
              "dti                           0\n",
              "delinq_2yrs                   0\n",
              "inq_last_6mths                0\n",
              "open_acc                      0\n",
              "pub_rec                       0\n",
              "revol_bal                     0\n",
              "revol_util                   47\n",
              "total_acc                     0\n",
              "total_pymnt                   0\n",
              "total_pymnt_inv               0\n",
              "total_rec_prncp               0\n",
              "total_rec_int                 0\n",
              "total_rec_late_fee            0\n",
              "recoveries                    0\n",
              "collection_recovery_fee       0\n",
              "last_pymnt_amnt               0\n",
              "chargeoff_within_12_mths     56\n",
              "pub_rec_bankruptcies        697\n",
              "tax_liens                    39\n",
              "isd_month                     0\n",
              "isd_year                      0\n",
              "loan_status                   0\n",
              "dtype: int64"
            ]
          },
          "metadata": {},
          "execution_count": 6
        }
      ]
    },
    {
      "cell_type": "markdown",
      "source": [
        "filling the missing values"
      ],
      "metadata": {
        "id": "2WOWOIFXcAa3"
      }
    },
    {
      "cell_type": "code",
      "source": [
        "data['revol_util'].describe()"
      ],
      "metadata": {
        "colab": {
          "base_uri": "https://localhost:8080/",
          "height": 0
        },
        "id": "KVGmVybd7UhY",
        "outputId": "6ee6e806-0c82-49ac-8a98-5a931d564649"
      },
      "execution_count": 7,
      "outputs": [
        {
          "output_type": "execute_result",
          "data": {
            "text/plain": [
              "count    37497.000000\n",
              "mean        48.861742\n",
              "std         28.341493\n",
              "min          0.000000\n",
              "25%         25.400000\n",
              "50%         49.300000\n",
              "75%         72.400000\n",
              "max         99.900000\n",
              "Name: revol_util, dtype: float64"
            ]
          },
          "metadata": {},
          "execution_count": 7
        }
      ]
    },
    {
      "cell_type": "code",
      "source": [
        "plt.hist(data['revol_util'])"
      ],
      "metadata": {
        "colab": {
          "base_uri": "https://localhost:8080/",
          "height": 352
        },
        "id": "CadhwlI2Yj01",
        "outputId": "b7b3a337-69ba-4988-e28c-c6ebc779c604"
      },
      "execution_count": 8,
      "outputs": [
        {
          "output_type": "execute_result",
          "data": {
            "text/plain": [
              "(array([4233., 3205., 3598., 3890., 4110., 4078., 4023., 3809., 3509.,\n",
              "        3042.]),\n",
              " array([ 0.  ,  9.99, 19.98, 29.97, 39.96, 49.95, 59.94, 69.93, 79.92,\n",
              "        89.91, 99.9 ]),\n",
              " <a list of 10 Patch objects>)"
            ]
          },
          "metadata": {},
          "execution_count": 8
        },
        {
          "output_type": "display_data",
          "data": {
            "text/plain": [
              "<Figure size 432x288 with 1 Axes>"
            ],
            "image/png": "[encoded data removed]"
          },
          "metadata": {
            "needs_background": "light"
          }
        }
      ]
    },
    {
      "cell_type": "code",
      "source": [
        "data['revol_util'].mean()"
      ],
      "metadata": {
        "colab": {
          "base_uri": "https://localhost:8080/",
          "height": 0
        },
        "id": "E0UWzfoGY0D7",
        "outputId": "7419836e-553b-4f11-f4a7-2dcb29a0aa59"
      },
      "execution_count": 9,
      "outputs": [
        {
          "output_type": "execute_result",
          "data": {
            "text/plain": [
              "48.86174200602716"
            ]
          },
          "metadata": {},
          "execution_count": 9
        }
      ]
    },
    {
      "cell_type": "code",
      "source": [
        "mean_revol_util=data['revol_util'].mean()"
      ],
      "metadata": {
        "id": "RBLQpGntYyWx"
      },
      "execution_count": 10,
      "outputs": []
    },
    {
      "cell_type": "code",
      "source": [
        "data['revol_util'].fillna(mean_revol_util)"
      ],
      "metadata": {
        "colab": {
          "base_uri": "https://localhost:8080/",
          "height": 0
        },
        "id": "iG2WBwOdZWTq",
        "outputId": "2cb61adb-a964-4491-a8ff-28e7da44c987"
      },
      "execution_count": 11,
      "outputs": [
        {
          "output_type": "execute_result",
          "data": {
            "text/plain": [
              "0        83.7\n",
              "1         9.4\n",
              "2        98.5\n",
              "3        21.0\n",
              "4        28.3\n",
              "         ... \n",
              "37539    13.1\n",
              "37540    26.9\n",
              "37541    19.4\n",
              "37542     0.7\n",
              "37543    51.5\n",
              "Name: revol_util, Length: 37544, dtype: float64"
            ]
          },
          "metadata": {},
          "execution_count": 11
        }
      ]
    },
    {
      "cell_type": "code",
      "source": [
        "data['revol_util']=data['revol_util'].fillna(mean_revol_util)"
      ],
      "metadata": {
        "id": "ZjhwZgAtZh5h"
      },
      "execution_count": 12,
      "outputs": []
    },
    {
      "cell_type": "code",
      "source": [
        "data['chargeoff_within_12_mths'].describe()"
      ],
      "metadata": {
        "colab": {
          "base_uri": "https://localhost:8080/",
          "height": 0
        },
        "id": "CRK4humU7mFw",
        "outputId": "842e4cd8-7c1b-4085-ff2d-17307e478e95"
      },
      "execution_count": 13,
      "outputs": [
        {
          "output_type": "execute_result",
          "data": {
            "text/plain": [
              "count    37488.0\n",
              "mean         0.0\n",
              "std          0.0\n",
              "min          0.0\n",
              "25%          0.0\n",
              "50%          0.0\n",
              "75%          0.0\n",
              "max          0.0\n",
              "Name: chargeoff_within_12_mths, dtype: float64"
            ]
          },
          "metadata": {},
          "execution_count": 13
        }
      ]
    },
    {
      "cell_type": "code",
      "source": [
        "data.drop(['chargeoff_within_12_mths'],axis=1)"
      ],
      "metadata": {
        "colab": {
          "base_uri": "https://localhost:8080/",
          "height": 661
        },
        "id": "ygC9RQG1ZvJa",
        "outputId": "eb9b35c5-643e-47cc-f471-e8c175b273ce"
      },
      "execution_count": 14,
      "outputs": [
        {
          "output_type": "execute_result",
          "data": {
            "text/plain": [
              "       loan_amnt  funded_amnt  funded_amnt_inv        term  int_rate  \\\n",
              "0           5000         5000           4975.0   36 months     10.65   \n",
              "1           2500         2500           2500.0   60 months     15.27   \n",
              "2           2400         2400           2400.0   36 months     15.96   \n",
              "3          10000        10000          10000.0   36 months     13.49   \n",
              "4           5000         5000           5000.0   36 months      7.90   \n",
              "...          ...          ...              ...         ...       ...   \n",
              "37539       2500         2500           1075.0   36 months      8.07   \n",
              "37540       8500         8500            875.0   36 months     10.28   \n",
              "37541       5000         5000           1325.0   36 months      8.07   \n",
              "37542       5000         5000            650.0   36 months      7.43   \n",
              "37543       7500         7500            800.0   36 months     13.75   \n",
              "\n",
              "       installment grade sub_grade  emp_length home_ownership  ...  \\\n",
              "0           162.87     B        B2          10           RENT  ...   \n",
              "1            59.83     C        C4           1           RENT  ...   \n",
              "2            84.33     C        C5          10           RENT  ...   \n",
              "3           339.31     C        C1          10           RENT  ...   \n",
              "4           156.46     A        A4           3           RENT  ...   \n",
              "...            ...   ...       ...         ...            ...  ...   \n",
              "37539        78.42     A        A4           4       MORTGAGE  ...   \n",
              "37540       275.38     C        C1           3           RENT  ...   \n",
              "37541       156.84     A        A4           1       MORTGAGE  ...   \n",
              "37542       155.38     A        A2           1       MORTGAGE  ...   \n",
              "37543       255.43     E        E2           1            OWN  ...   \n",
              "\n",
              "       total_rec_int total_rec_late_fee recoveries  collection_recovery_fee  \\\n",
              "0             863.16               0.00       0.00                     0.00   \n",
              "1             435.17               0.00     117.08                     1.11   \n",
              "2             605.67               0.00       0.00                     0.00   \n",
              "3            2214.92              16.97       0.00                     0.00   \n",
              "4             632.21               0.00       0.00                     0.00   \n",
              "...              ...                ...        ...                      ...   \n",
              "37539         322.97               0.00       0.00                     0.00   \n",
              "37540        1413.49               0.00       0.00                     0.00   \n",
              "37541         272.16               0.00       0.00                     0.00   \n",
              "37542         174.20               0.00       0.00                     0.00   \n",
              "37543        1695.26               0.00       0.00                     0.00   \n",
              "\n",
              "       last_pymnt_amnt  pub_rec_bankruptcies  tax_liens  isd_month  isd_year  \\\n",
              "0               171.62                   0.0        0.0         12      2011   \n",
              "1               119.66                   0.0        0.0         12      2011   \n",
              "2               649.91                   0.0        0.0         12      2011   \n",
              "3               357.48                   0.0        0.0         12      2011   \n",
              "4               161.03                   0.0        0.0         12      2011   \n",
              "...                ...                   ...        ...        ...       ...   \n",
              "37539            80.90                   NaN        NaN          7      2007   \n",
              "37540           281.94                   NaN        NaN          7      2007   \n",
              "37541             0.00                   NaN        NaN          7      2007   \n",
              "37542             0.00                   NaN        NaN          7      2007   \n",
              "37543           256.59                   NaN        NaN          6      2007   \n",
              "\n",
              "       loan_status  \n",
              "0       Fully Paid  \n",
              "1      Charged Off  \n",
              "2       Fully Paid  \n",
              "3       Fully Paid  \n",
              "4       Fully Paid  \n",
              "...            ...  \n",
              "37539   Fully Paid  \n",
              "37540   Fully Paid  \n",
              "37541   Fully Paid  \n",
              "37542   Fully Paid  \n",
              "37543   Fully Paid  \n",
              "\n",
              "[37544 rows x 34 columns]"
            ],
            "text/html": [
              "\n",
              "  <div id=\"df-3b14f979-7a52-40b6-8c0f-a7a3757e3191\">\n",
              "    <div class=\"colab-df-container\">\n",
              "      <div>\n",
              "<style scoped>\n",
              "    .dataframe tbody tr th:only-of-type {\n",
              "        vertical-align: middle;\n",
              "    }\n",
              "\n",
              "    .dataframe tbody tr th {\n",
              "        vertical-align: top;\n",
              "    }\n",
              "\n",
              "    .dataframe thead th {\n",
              "        text-align: right;\n",
              "    }\n",
              "</style>\n",
              "<table border=\"1\" class=\"dataframe\">\n",
              "  <thead>\n",
              "    <tr style=\"text-align: right;\">\n",
              "      <th></th>\n",
              "      <th>loan_amnt</th>\n",
              "      <th>funded_amnt</th>\n",
              "      <th>funded_amnt_inv</th>\n",
              "      <th>term</th>\n",
              "      <th>int_rate</th>\n",
              "      <th>installment</th>\n",
              "      <th>grade</th>\n",
              "      <th>sub_grade</th>\n",
              "      <th>emp_length</th>\n",
              "      <th>home_ownership</th>\n",
              "      <th>...</th>\n",
              "      <th>total_rec_int</th>\n",
              "      <th>total_rec_late_fee</th>\n",
              "      <th>recoveries</th>\n",
              "      <th>collection_recovery_fee</th>\n",
              "      <th>last_pymnt_amnt</th>\n",
              "      <th>pub_rec_bankruptcies</th>\n",
              "      <th>tax_liens</th>\n",
              "      <th>isd_month</th>\n",
              "      <th>isd_year</th>\n",
              "      <th>loan_status</th>\n",
              "    </tr>\n",
              "  </thead>\n",
              "  <tbody>\n",
              "    <tr>\n",
              "      <th>0</th>\n",
              "      <td>5000</td>\n",
              "      <td>5000</td>\n",
              "      <td>4975.0</td>\n",
              "      <td>36 months</td>\n",
              "      <td>10.65</td>\n",
              "      <td>162.87</td>\n",
              "      <td>B</td>\n",
              "      <td>B2</td>\n",
              "      <td>10</td>\n",
              "      <td>RENT</td>\n",
              "      <td>...</td>\n",
              "      <td>863.16</td>\n",
              "      <td>0.00</td>\n",
              "      <td>0.00</td>\n",
              "      <td>0.00</td>\n",
              "      <td>171.62</td>\n",
              "      <td>0.0</td>\n",
              "      <td>0.0</td>\n",
              "      <td>12</td>\n",
              "      <td>2011</td>\n",
              "      <td>Fully Paid</td>\n",
              "    </tr>\n",
              "    <tr>\n",
              "      <th>1</th>\n",
              "      <td>2500</td>\n",
              "      <td>2500</td>\n",
              "      <td>2500.0</td>\n",
              "      <td>60 months</td>\n",
              "      <td>15.27</td>\n",
              "      <td>59.83</td>\n",
              "      <td>C</td>\n",
              "      <td>C4</td>\n",
              "      <td>1</td>\n",
              "      <td>RENT</td>\n",
              "      <td>...</td>\n",
              "      <td>435.17</td>\n",
              "      <td>0.00</td>\n",
              "      <td>117.08</td>\n",
              "      <td>1.11</td>\n",
              "      <td>119.66</td>\n",
              "      <td>0.0</td>\n",
              "      <td>0.0</td>\n",
              "      <td>12</td>\n",
              "      <td>2011</td>\n",
              "      <td>Charged Off</td>\n",
              "    </tr>\n",
              "    <tr>\n",
              "      <th>2</th>\n",
              "      <td>2400</td>\n",
              "      <td>2400</td>\n",
              "      <td>2400.0</td>\n",
              "      <td>36 months</td>\n",
              "      <td>15.96</td>\n",
              "      <td>84.33</td>\n",
              "      <td>C</td>\n",
              "      <td>C5</td>\n",
              "      <td>10</td>\n",
              "      <td>RENT</td>\n",
              "      <td>...</td>\n",
              "      <td>605.67</td>\n",
              "      <td>0.00</td>\n",
              "      <td>0.00</td>\n",
              "      <td>0.00</td>\n",
              "      <td>649.91</td>\n",
              "      <td>0.0</td>\n",
              "      <td>0.0</td>\n",
              "      <td>12</td>\n",
              "      <td>2011</td>\n",
              "      <td>Fully Paid</td>\n",
              "    </tr>\n",
              "    <tr>\n",
              "      <th>3</th>\n",
              "      <td>10000</td>\n",
              "      <td>10000</td>\n",
              "      <td>10000.0</td>\n",
              "      <td>36 months</td>\n",
              "      <td>13.49</td>\n",
              "      <td>339.31</td>\n",
              "      <td>C</td>\n",
              "      <td>C1</td>\n",
              "      <td>10</td>\n",
              "      <td>RENT</td>\n",
              "      <td>...</td>\n",
              "      <td>2214.92</td>\n",
              "      <td>16.97</td>\n",
              "      <td>0.00</td>\n",
              "      <td>0.00</td>\n",
              "      <td>357.48</td>\n",
              "      <td>0.0</td>\n",
              "      <td>0.0</td>\n",
              "      <td>12</td>\n",
              "      <td>2011</td>\n",
              "      <td>Fully Paid</td>\n",
              "    </tr>\n",
              "    <tr>\n",
              "      <th>4</th>\n",
              "      <td>5000</td>\n",
              "      <td>5000</td>\n",
              "      <td>5000.0</td>\n",
              "      <td>36 months</td>\n",
              "      <td>7.90</td>\n",
              "      <td>156.46</td>\n",
              "      <td>A</td>\n",
              "      <td>A4</td>\n",
              "      <td>3</td>\n",
              "      <td>RENT</td>\n",
              "      <td>...</td>\n",
              "      <td>632.21</td>\n",
              "      <td>0.00</td>\n",
              "      <td>0.00</td>\n",
              "      <td>0.00</td>\n",
              "      <td>161.03</td>\n",
              "      <td>0.0</td>\n",
              "      <td>0.0</td>\n",
              "      <td>12</td>\n",
              "      <td>2011</td>\n",
              "      <td>Fully Paid</td>\n",
              "    </tr>\n",
              "    <tr>\n",
              "      <th>...</th>\n",
              "      <td>...</td>\n",
              "      <td>...</td>\n",
              "      <td>...</td>\n",
              "      <td>...</td>\n",
              "      <td>...</td>\n",
              "      <td>...</td>\n",
              "      <td>...</td>\n",
              "      <td>...</td>\n",
              "      <td>...</td>\n",
              "      <td>...</td>\n",
              "      <td>...</td>\n",
              "      <td>...</td>\n",
              "      <td>...</td>\n",
              "      <td>...</td>\n",
              "      <td>...</td>\n",
              "      <td>...</td>\n",
              "      <td>...</td>\n",
              "      <td>...</td>\n",
              "      <td>...</td>\n",
              "      <td>...</td>\n",
              "      <td>...</td>\n",
              "    </tr>\n",
              "    <tr>\n",
              "      <th>37539</th>\n",
              "      <td>2500</td>\n",
              "      <td>2500</td>\n",
              "      <td>1075.0</td>\n",
              "      <td>36 months</td>\n",
              "      <td>8.07</td>\n",
              "      <td>78.42</td>\n",
              "      <td>A</td>\n",
              "      <td>A4</td>\n",
              "      <td>4</td>\n",
              "      <td>MORTGAGE</td>\n",
              "      <td>...</td>\n",
              "      <td>322.97</td>\n",
              "      <td>0.00</td>\n",
              "      <td>0.00</td>\n",
              "      <td>0.00</td>\n",
              "      <td>80.90</td>\n",
              "      <td>NaN</td>\n",
              "      <td>NaN</td>\n",
              "      <td>7</td>\n",
              "      <td>2007</td>\n",
              "      <td>Fully Paid</td>\n",
              "    </tr>\n",
              "    <tr>\n",
              "      <th>37540</th>\n",
              "      <td>8500</td>\n",
              "      <td>8500</td>\n",
              "      <td>875.0</td>\n",
              "      <td>36 months</td>\n",
              "      <td>10.28</td>\n",
              "      <td>275.38</td>\n",
              "      <td>C</td>\n",
              "      <td>C1</td>\n",
              "      <td>3</td>\n",
              "      <td>RENT</td>\n",
              "      <td>...</td>\n",
              "      <td>1413.49</td>\n",
              "      <td>0.00</td>\n",
              "      <td>0.00</td>\n",
              "      <td>0.00</td>\n",
              "      <td>281.94</td>\n",
              "      <td>NaN</td>\n",
              "      <td>NaN</td>\n",
              "      <td>7</td>\n",
              "      <td>2007</td>\n",
              "      <td>Fully Paid</td>\n",
              "    </tr>\n",
              "    <tr>\n",
              "      <th>37541</th>\n",
              "      <td>5000</td>\n",
              "      <td>5000</td>\n",
              "      <td>1325.0</td>\n",
              "      <td>36 months</td>\n",
              "      <td>8.07</td>\n",
              "      <td>156.84</td>\n",
              "      <td>A</td>\n",
              "      <td>A4</td>\n",
              "      <td>1</td>\n",
              "      <td>MORTGAGE</td>\n",
              "      <td>...</td>\n",
              "      <td>272.16</td>\n",
              "      <td>0.00</td>\n",
              "      <td>0.00</td>\n",
              "      <td>0.00</td>\n",
              "      <td>0.00</td>\n",
              "      <td>NaN</td>\n",
              "      <td>NaN</td>\n",
              "      <td>7</td>\n",
              "      <td>2007</td>\n",
              "      <td>Fully Paid</td>\n",
              "    </tr>\n",
              "    <tr>\n",
              "      <th>37542</th>\n",
              "      <td>5000</td>\n",
              "      <td>5000</td>\n",
              "      <td>650.0</td>\n",
              "      <td>36 months</td>\n",
              "      <td>7.43</td>\n",
              "      <td>155.38</td>\n",
              "      <td>A</td>\n",
              "      <td>A2</td>\n",
              "      <td>1</td>\n",
              "      <td>MORTGAGE</td>\n",
              "      <td>...</td>\n",
              "      <td>174.20</td>\n",
              "      <td>0.00</td>\n",
              "      <td>0.00</td>\n",
              "      <td>0.00</td>\n",
              "      <td>0.00</td>\n",
              "      <td>NaN</td>\n",
              "      <td>NaN</td>\n",
              "      <td>7</td>\n",
              "      <td>2007</td>\n",
              "      <td>Fully Paid</td>\n",
              "    </tr>\n",
              "    <tr>\n",
              "      <th>37543</th>\n",
              "      <td>7500</td>\n",
              "      <td>7500</td>\n",
              "      <td>800.0</td>\n",
              "      <td>36 months</td>\n",
              "      <td>13.75</td>\n",
              "      <td>255.43</td>\n",
              "      <td>E</td>\n",
              "      <td>E2</td>\n",
              "      <td>1</td>\n",
              "      <td>OWN</td>\n",
              "      <td>...</td>\n",
              "      <td>1695.26</td>\n",
              "      <td>0.00</td>\n",
              "      <td>0.00</td>\n",
              "      <td>0.00</td>\n",
              "      <td>256.59</td>\n",
              "      <td>NaN</td>\n",
              "      <td>NaN</td>\n",
              "      <td>6</td>\n",
              "      <td>2007</td>\n",
              "      <td>Fully Paid</td>\n",
              "    </tr>\n",
              "  </tbody>\n",
              "</table>\n",
              "<p>37544 rows × 34 columns</p>\n",
              "</div>\n",
              "      <button class=\"colab-df-convert\" onclick=\"convertToInteractive('df-3b14f979-7a52-40b6-8c0f-a7a3757e3191')\"\n",
              "              title=\"Convert this dataframe to an interactive table.\"\n",
              "              style=\"display:none;\">\n",
              "        \n",
              "  <svg xmlns=\"http://www.w3.org/2000/svg\" height=\"24px\"viewBox=\"0 0 24 24\"\n",
              "       width=\"24px\">\n",
              "    <path d=\"M0 0h24v24H0V0z\" fill=\"none\"/>\n",
              "    <path d=\"M18.56 5.44l.94 2.06.94-2.06 2.06-.94-2.06-.94-.94-2.06-.94 2.06-2.06.94zm-11 1L8.5 8.5l.94-2.06 2.06-.94-2.06-.94L8.5 2.5l-.94 2.06-2.06.94zm10 10l.94 2.06.94-2.06 2.06-.94-2.06-.94-.94-2.06-.94 2.06-2.06.94z\"/><path d=\"M17.41 7.96l-1.37-1.37c-.4-.4-.92-.59-1.43-.59-.52 0-1.04.2-1.43.59L10.3 9.45l-7.72 7.72c-.78.78-.78 2.05 0 2.83L4 21.41c.39.39.9.59 1.41.59.51 0 1.02-.2 1.41-.59l7.78-7.78 2.81-2.81c.8-.78.8-2.07 0-2.86zM5.41 20L4 18.59l7.72-7.72 1.47 1.35L5.41 20z\"/>\n",
              "  </svg>\n",
              "      </button>\n",
              "      \n",
              "  <style>\n",
              "    .colab-df-container {\n",
              "      display:flex;\n",
              "      flex-wrap:wrap;\n",
              "      gap: 12px;\n",
              "    }\n",
              "\n",
              "    .colab-df-convert {\n",
              "      background-color: #E8F0FE;\n",
              "      border: none;\n",
              "      border-radius: 50%;\n",
              "      cursor: pointer;\n",
              "      display: none;\n",
              "      fill: #1967D2;\n",
              "      height: 32px;\n",
              "      padding: 0 0 0 0;\n",
              "      width: 32px;\n",
              "    }\n",
              "\n",
              "    .colab-df-convert:hover {\n",
              "      background-color: #E2EBFA;\n",
              "      box-shadow: 0px 1px 2px rgba(60, 64, 67, 0.3), 0px 1px 3px 1px rgba(60, 64, 67, 0.15);\n",
              "      fill: #174EA6;\n",
              "    }\n",
              "\n",
              "    [theme=dark] .colab-df-convert {\n",
              "      background-color: #3B4455;\n",
              "      fill: #D2E3FC;\n",
              "    }\n",
              "\n",
              "    [theme=dark] .colab-df-convert:hover {\n",
              "      background-color: #434B5C;\n",
              "      box-shadow: 0px 1px 3px 1px rgba(0, 0, 0, 0.15);\n",
              "      filter: drop-shadow(0px 1px 2px rgba(0, 0, 0, 0.3));\n",
              "      fill: #FFFFFF;\n",
              "    }\n",
              "  </style>\n",
              "\n",
              "      <script>\n",
              "        const buttonEl =\n",
              "          document.querySelector('#df-3b14f979-7a52-40b6-8c0f-a7a3757e3191 button.colab-df-convert');\n",
              "        buttonEl.style.display =\n",
              "          google.colab.kernel.accessAllowed ? 'block' : 'none';\n",
              "\n",
              "        async function convertToInteractive(key) {\n",
              "          const element = document.querySelector('#df-3b14f979-7a52-40b6-8c0f-a7a3757e3191');\n",
              "          const dataTable =\n",
              "            await google.colab.kernel.invokeFunction('convertToInteractive',\n",
              "                                                     [key], {});\n",
              "          if (!dataTable) return;\n",
              "\n",
              "          const docLinkHtml = 'Like what you see? Visit the ' +\n",
              "            '<a target=\"_blank\" href=https://colab.research.google.com/notebooks/data_table.ipynb>data table notebook</a>'\n",
              "            + ' to learn more about interactive tables.';\n",
              "          element.innerHTML = '';\n",
              "          dataTable['output_type'] = 'display_data';\n",
              "          await google.colab.output.renderOutput(dataTable, element);\n",
              "          const docLink = document.createElement('div');\n",
              "          docLink.innerHTML = docLinkHtml;\n",
              "          element.appendChild(docLink);\n",
              "        }\n",
              "      </script>\n",
              "    </div>\n",
              "  </div>\n",
              "  "
            ]
          },
          "metadata": {},
          "execution_count": 14
        }
      ]
    },
    {
      "cell_type": "code",
      "source": [
        "data=data.drop(['chargeoff_within_12_mths','sub_grade'],axis=1)"
      ],
      "metadata": {
        "id": "cT5mR3iVZ-8y"
      },
      "execution_count": 15,
      "outputs": []
    },
    {
      "cell_type": "code",
      "source": [
        "data.isna().sum()"
      ],
      "metadata": {
        "colab": {
          "base_uri": "https://localhost:8080/",
          "height": 0
        },
        "id": "UZNCaoUpaLK3",
        "outputId": "628c3372-f1bd-4c06-8b4b-3a26e6e6135c"
      },
      "execution_count": 16,
      "outputs": [
        {
          "output_type": "execute_result",
          "data": {
            "text/plain": [
              "loan_amnt                    0\n",
              "funded_amnt                  0\n",
              "funded_amnt_inv              0\n",
              "term                         0\n",
              "int_rate                     0\n",
              "installment                  0\n",
              "grade                        0\n",
              "emp_length                   0\n",
              "home_ownership               0\n",
              "annual_inc                   0\n",
              "verification_status          0\n",
              "purpose                      0\n",
              "dti                          0\n",
              "delinq_2yrs                  0\n",
              "inq_last_6mths               0\n",
              "open_acc                     0\n",
              "pub_rec                      0\n",
              "revol_bal                    0\n",
              "revol_util                   0\n",
              "total_acc                    0\n",
              "total_pymnt                  0\n",
              "total_pymnt_inv              0\n",
              "total_rec_prncp              0\n",
              "total_rec_int                0\n",
              "total_rec_late_fee           0\n",
              "recoveries                   0\n",
              "collection_recovery_fee      0\n",
              "last_pymnt_amnt              0\n",
              "pub_rec_bankruptcies       697\n",
              "tax_liens                   39\n",
              "isd_month                    0\n",
              "isd_year                     0\n",
              "loan_status                  0\n",
              "dtype: int64"
            ]
          },
          "metadata": {},
          "execution_count": 16
        }
      ]
    },
    {
      "cell_type": "code",
      "source": [
        "data['pub_rec_bankruptcies'].describe()"
      ],
      "metadata": {
        "colab": {
          "base_uri": "https://localhost:8080/",
          "height": 0
        },
        "id": "ZXUHyjIH7s73",
        "outputId": "10e19629-e35f-416f-8bf4-b4f617088330"
      },
      "execution_count": 17,
      "outputs": [
        {
          "output_type": "execute_result",
          "data": {
            "text/plain": [
              "count    36847.000000\n",
              "mean         0.041794\n",
              "std          0.200799\n",
              "min          0.000000\n",
              "25%          0.000000\n",
              "50%          0.000000\n",
              "75%          0.000000\n",
              "max          2.000000\n",
              "Name: pub_rec_bankruptcies, dtype: float64"
            ]
          },
          "metadata": {},
          "execution_count": 17
        }
      ]
    },
    {
      "cell_type": "code",
      "source": [
        "plt.hist(data['pub_rec_bankruptcies'])"
      ],
      "metadata": {
        "colab": {
          "base_uri": "https://localhost:8080/",
          "height": 334
        },
        "id": "QmnFI8NRaN3A",
        "outputId": "e5ed033e-205d-497d-ad98-7711112057a2"
      },
      "execution_count": 18,
      "outputs": [
        {
          "output_type": "execute_result",
          "data": {
            "text/plain": [
              "(array([3.5312e+04, 0.0000e+00, 0.0000e+00, 0.0000e+00, 0.0000e+00,\n",
              "        1.5300e+03, 0.0000e+00, 0.0000e+00, 0.0000e+00, 5.0000e+00]),\n",
              " array([0. , 0.2, 0.4, 0.6, 0.8, 1. , 1.2, 1.4, 1.6, 1.8, 2. ]),\n",
              " <a list of 10 Patch objects>)"
            ]
          },
          "metadata": {},
          "execution_count": 18
        },
        {
          "output_type": "display_data",
          "data": {
            "text/plain": [
              "<Figure size 432x288 with 1 Axes>"
            ],
            "image/png": "[encoded data removed]"
          },
          "metadata": {
            "needs_background": "light"
          }
        }
      ]
    },
    {
      "cell_type": "code",
      "source": [
        "data['pub_rec_bankruptcies'].mode()[0]"
      ],
      "metadata": {
        "colab": {
          "base_uri": "https://localhost:8080/",
          "height": 0
        },
        "id": "SHmQvO6xa-qu",
        "outputId": "20ff1cd4-7f87-4839-e266-bae4dc5a3f3c"
      },
      "execution_count": 19,
      "outputs": [
        {
          "output_type": "execute_result",
          "data": {
            "text/plain": [
              "0.0"
            ]
          },
          "metadata": {},
          "execution_count": 19
        }
      ]
    },
    {
      "cell_type": "code",
      "source": [
        "mode_pub_rec_bankruptcies=data['pub_rec_bankruptcies'].mode()[0]"
      ],
      "metadata": {
        "id": "aW2zVLdUbJf3"
      },
      "execution_count": 20,
      "outputs": []
    },
    {
      "cell_type": "code",
      "source": [
        "data['pub_rec_bankruptcies']=data['pub_rec_bankruptcies'].fillna(mode_pub_rec_bankruptcies)"
      ],
      "metadata": {
        "id": "y_rW6W4lbWsC"
      },
      "execution_count": 21,
      "outputs": []
    },
    {
      "cell_type": "code",
      "source": [
        "data['tax_liens'].describe()"
      ],
      "metadata": {
        "colab": {
          "base_uri": "https://localhost:8080/",
          "height": 0
        },
        "id": "XopwaTJy7z83",
        "outputId": "1fe65120-10a0-4dbe-bd42-9236133023d3"
      },
      "execution_count": 22,
      "outputs": [
        {
          "output_type": "execute_result",
          "data": {
            "text/plain": [
              "count    37505.0\n",
              "mean         0.0\n",
              "std          0.0\n",
              "min          0.0\n",
              "25%          0.0\n",
              "50%          0.0\n",
              "75%          0.0\n",
              "max          0.0\n",
              "Name: tax_liens, dtype: float64"
            ]
          },
          "metadata": {},
          "execution_count": 22
        }
      ]
    },
    {
      "cell_type": "code",
      "source": [
        "data=data.drop(['tax_liens'],axis=1)"
      ],
      "metadata": {
        "id": "EsCGtTo5auof"
      },
      "execution_count": 23,
      "outputs": []
    },
    {
      "cell_type": "code",
      "source": [
        "data.isna().sum()         ## No data is missing"
      ],
      "metadata": {
        "colab": {
          "base_uri": "https://localhost:8080/",
          "height": 0
        },
        "id": "p3m46to2brVx",
        "outputId": "4538997b-b915-4a97-aae1-067f9049e217"
      },
      "execution_count": 24,
      "outputs": [
        {
          "output_type": "execute_result",
          "data": {
            "text/plain": [
              "loan_amnt                  0\n",
              "funded_amnt                0\n",
              "funded_amnt_inv            0\n",
              "term                       0\n",
              "int_rate                   0\n",
              "installment                0\n",
              "grade                      0\n",
              "emp_length                 0\n",
              "home_ownership             0\n",
              "annual_inc                 0\n",
              "verification_status        0\n",
              "purpose                    0\n",
              "dti                        0\n",
              "delinq_2yrs                0\n",
              "inq_last_6mths             0\n",
              "open_acc                   0\n",
              "pub_rec                    0\n",
              "revol_bal                  0\n",
              "revol_util                 0\n",
              "total_acc                  0\n",
              "total_pymnt                0\n",
              "total_pymnt_inv            0\n",
              "total_rec_prncp            0\n",
              "total_rec_int              0\n",
              "total_rec_late_fee         0\n",
              "recoveries                 0\n",
              "collection_recovery_fee    0\n",
              "last_pymnt_amnt            0\n",
              "pub_rec_bankruptcies       0\n",
              "isd_month                  0\n",
              "isd_year                   0\n",
              "loan_status                0\n",
              "dtype: int64"
            ]
          },
          "metadata": {},
          "execution_count": 24
        }
      ]
    },
    {
      "cell_type": "code",
      "source": [
        "data.columns"
      ],
      "metadata": {
        "colab": {
          "base_uri": "https://localhost:8080/",
          "height": 0
        },
        "id": "h_T-Kp-Bb1Xv",
        "outputId": "e55682dc-40f1-46f2-e8cb-d9039a25604a"
      },
      "execution_count": 25,
      "outputs": [
        {
          "output_type": "execute_result",
          "data": {
            "text/plain": [
              "Index(['loan_amnt', 'funded_amnt', 'funded_amnt_inv', 'term', 'int_rate',\n",
              "       'installment', 'grade', 'emp_length', 'home_ownership', 'annual_inc',\n",
              "       'verification_status', 'purpose', 'dti', 'delinq_2yrs',\n",
              "       'inq_last_6mths', 'open_acc', 'pub_rec', 'revol_bal', 'revol_util',\n",
              "       'total_acc', 'total_pymnt', 'total_pymnt_inv', 'total_rec_prncp',\n",
              "       'total_rec_int', 'total_rec_late_fee', 'recoveries',\n",
              "       'collection_recovery_fee', 'last_pymnt_amnt', 'pub_rec_bankruptcies',\n",
              "       'isd_month', 'isd_year', 'loan_status'],\n",
              "      dtype='object')"
            ]
          },
          "metadata": {},
          "execution_count": 25
        }
      ]
    },
    {
      "cell_type": "code",
      "source": [
        "data.info()"
      ],
      "metadata": {
        "colab": {
          "base_uri": "https://localhost:8080/",
          "height": 0
        },
        "id": "D2BLnePLcwE6",
        "outputId": "590df3c0-6c60-4ddf-e800-08b18e426445"
      },
      "execution_count": 26,
      "outputs": [
        {
          "output_type": "stream",
          "name": "stdout",
          "text": [
            "<class 'pandas.core.frame.DataFrame'>\n",
            "RangeIndex: 37544 entries, 0 to 37543\n",
            "Data columns (total 32 columns):\n",
            " #   Column                   Non-Null Count  Dtype  \n",
            "---  ------                   --------------  -----  \n",
            " 0   loan_amnt                37544 non-null  int64  \n",
            " 1   funded_amnt              37544 non-null  int64  \n",
            " 2   funded_amnt_inv          37544 non-null  float64\n",
            " 3   term                     37544 non-null  object \n",
            " 4   int_rate                 37544 non-null  float64\n",
            " 5   installment              37544 non-null  float64\n",
            " 6   grade                    37544 non-null  object \n",
            " 7   emp_length               37544 non-null  int64  \n",
            " 8   home_ownership           37544 non-null  object \n",
            " 9   annual_inc               37544 non-null  float64\n",
            " 10  verification_status      37544 non-null  object \n",
            " 11  purpose                  37544 non-null  object \n",
            " 12  dti                      37544 non-null  float64\n",
            " 13  delinq_2yrs              37544 non-null  int64  \n",
            " 14  inq_last_6mths           37544 non-null  int64  \n",
            " 15  open_acc                 37544 non-null  int64  \n",
            " 16  pub_rec                  37544 non-null  int64  \n",
            " 17  revol_bal                37544 non-null  int64  \n",
            " 18  revol_util               37544 non-null  float64\n",
            " 19  total_acc                37544 non-null  int64  \n",
            " 20  total_pymnt              37544 non-null  float64\n",
            " 21  total_pymnt_inv          37544 non-null  float64\n",
            " 22  total_rec_prncp          37544 non-null  float64\n",
            " 23  total_rec_int            37544 non-null  float64\n",
            " 24  total_rec_late_fee       37544 non-null  float64\n",
            " 25  recoveries               37544 non-null  float64\n",
            " 26  collection_recovery_fee  37544 non-null  float64\n",
            " 27  last_pymnt_amnt          37544 non-null  float64\n",
            " 28  pub_rec_bankruptcies     37544 non-null  float64\n",
            " 29  isd_month                37544 non-null  int64  \n",
            " 30  isd_year                 37544 non-null  int64  \n",
            " 31  loan_status              37544 non-null  object \n",
            "dtypes: float64(15), int64(11), object(6)\n",
            "memory usage: 9.2+ MB\n"
          ]
        }
      ]
    },
    {
      "cell_type": "code",
      "source": [
        "data['term']"
      ],
      "metadata": {
        "colab": {
          "base_uri": "https://localhost:8080/",
          "height": 0
        },
        "id": "0ajt1i_0c3St",
        "outputId": "2c350861-1137-4727-8711-dad33e57635f"
      },
      "execution_count": 27,
      "outputs": [
        {
          "output_type": "execute_result",
          "data": {
            "text/plain": [
              "0         36 months\n",
              "1         60 months\n",
              "2         36 months\n",
              "3         36 months\n",
              "4         36 months\n",
              "            ...    \n",
              "37539     36 months\n",
              "37540     36 months\n",
              "37541     36 months\n",
              "37542     36 months\n",
              "37543     36 months\n",
              "Name: term, Length: 37544, dtype: object"
            ]
          },
          "metadata": {},
          "execution_count": 27
        }
      ]
    },
    {
      "cell_type": "code",
      "source": [
        "data['term']=data['term'].str.replace('months',\"\")"
      ],
      "metadata": {
        "id": "qBxBzaMAfq9N"
      },
      "execution_count": 28,
      "outputs": []
    },
    {
      "cell_type": "code",
      "source": [
        "data['term']=data['term'].astype(float)"
      ],
      "metadata": {
        "id": "6WPeMpkzgAvh"
      },
      "execution_count": 29,
      "outputs": []
    },
    {
      "cell_type": "code",
      "source": [
        "data['grade'].unique()"
      ],
      "metadata": {
        "colab": {
          "base_uri": "https://localhost:8080/",
          "height": 0
        },
        "id": "7VkI1c4thU_8",
        "outputId": "256bba2e-a28b-4019-a1f2-bad67646b4e7"
      },
      "execution_count": 30,
      "outputs": [
        {
          "output_type": "execute_result",
          "data": {
            "text/plain": [
              "array(['B', 'C', 'A', 'E', 'F', 'D', 'G'], dtype=object)"
            ]
          },
          "metadata": {},
          "execution_count": 30
        }
      ]
    },
    {
      "cell_type": "code",
      "source": [
        "grade_M={'A':1,'B':1,'C':3,'D':4,'E':5,'F':6,'G':7}"
      ],
      "metadata": {
        "id": "NXg5_CLJhgmI"
      },
      "execution_count": 31,
      "outputs": []
    },
    {
      "cell_type": "code",
      "source": [
        "data['grade'].map(grade_M)"
      ],
      "metadata": {
        "colab": {
          "base_uri": "https://localhost:8080/",
          "height": 0
        },
        "id": "u58TF2yeiQIY",
        "outputId": "23ef01c4-95cb-4c4d-988b-a5f2fc28a229"
      },
      "execution_count": 32,
      "outputs": [
        {
          "output_type": "execute_result",
          "data": {
            "text/plain": [
              "0        1\n",
              "1        3\n",
              "2        3\n",
              "3        3\n",
              "4        1\n",
              "        ..\n",
              "37539    1\n",
              "37540    3\n",
              "37541    1\n",
              "37542    1\n",
              "37543    5\n",
              "Name: grade, Length: 37544, dtype: int64"
            ]
          },
          "metadata": {},
          "execution_count": 32
        }
      ]
    },
    {
      "cell_type": "code",
      "source": [
        "data['grade']=data['grade'].map(grade_M)"
      ],
      "metadata": {
        "id": "6JPfsaImiYk_"
      },
      "execution_count": 33,
      "outputs": []
    },
    {
      "cell_type": "code",
      "source": [
        "data['grade']=data['grade'].astype(int)"
      ],
      "metadata": {
        "id": "ZBALlwxeidH1"
      },
      "execution_count": 34,
      "outputs": []
    },
    {
      "cell_type": "code",
      "source": [
        "data['home_ownership'].unique()"
      ],
      "metadata": {
        "colab": {
          "base_uri": "https://localhost:8080/",
          "height": 0
        },
        "id": "fbBdXp0jmXnW",
        "outputId": "c4a8c5cd-37eb-4ace-9fa5-26f858933784"
      },
      "execution_count": 35,
      "outputs": [
        {
          "output_type": "execute_result",
          "data": {
            "text/plain": [
              "array(['RENT', 'OWN', 'MORTGAGE', 'OTHER', 'NONE'], dtype=object)"
            ]
          },
          "metadata": {},
          "execution_count": 35
        }
      ]
    },
    {
      "cell_type": "code",
      "source": [
        "pd.get_dummies(data['home_ownership'])"
      ],
      "metadata": {
        "colab": {
          "base_uri": "https://localhost:8080/",
          "height": 423
        },
        "id": "8Z3R7kcwmqjw",
        "outputId": "f94ac5fb-591c-4190-f9e4-24ec12d4dbc2"
      },
      "execution_count": 36,
      "outputs": [
        {
          "output_type": "execute_result",
          "data": {
            "text/plain": [
              "       MORTGAGE  NONE  OTHER  OWN  RENT\n",
              "0             0     0      0    0     1\n",
              "1             0     0      0    0     1\n",
              "2             0     0      0    0     1\n",
              "3             0     0      0    0     1\n",
              "4             0     0      0    0     1\n",
              "...         ...   ...    ...  ...   ...\n",
              "37539         1     0      0    0     0\n",
              "37540         0     0      0    0     1\n",
              "37541         1     0      0    0     0\n",
              "37542         1     0      0    0     0\n",
              "37543         0     0      0    1     0\n",
              "\n",
              "[37544 rows x 5 columns]"
            ],
            "text/html": [
              "\n",
              "  <div id=\"df-8f57a37d-e38b-4855-9860-78202151385c\">\n",
              "    <div class=\"colab-df-container\">\n",
              "      <div>\n",
              "<style scoped>\n",
              "    .dataframe tbody tr th:only-of-type {\n",
              "        vertical-align: middle;\n",
              "    }\n",
              "\n",
              "    .dataframe tbody tr th {\n",
              "        vertical-align: top;\n",
              "    }\n",
              "\n",
              "    .dataframe thead th {\n",
              "        text-align: right;\n",
              "    }\n",
              "</style>\n",
              "<table border=\"1\" class=\"dataframe\">\n",
              "  <thead>\n",
              "    <tr style=\"text-align: right;\">\n",
              "      <th></th>\n",
              "      <th>MORTGAGE</th>\n",
              "      <th>NONE</th>\n",
              "      <th>OTHER</th>\n",
              "      <th>OWN</th>\n",
              "      <th>RENT</th>\n",
              "    </tr>\n",
              "  </thead>\n",
              "  <tbody>\n",
              "    <tr>\n",
              "      <th>0</th>\n",
              "      <td>0</td>\n",
              "      <td>0</td>\n",
              "      <td>0</td>\n",
              "      <td>0</td>\n",
              "      <td>1</td>\n",
              "    </tr>\n",
              "    <tr>\n",
              "      <th>1</th>\n",
              "      <td>0</td>\n",
              "      <td>0</td>\n",
              "      <td>0</td>\n",
              "      <td>0</td>\n",
              "      <td>1</td>\n",
              "    </tr>\n",
              "    <tr>\n",
              "      <th>2</th>\n",
              "      <td>0</td>\n",
              "      <td>0</td>\n",
              "      <td>0</td>\n",
              "      <td>0</td>\n",
              "      <td>1</td>\n",
              "    </tr>\n",
              "    <tr>\n",
              "      <th>3</th>\n",
              "      <td>0</td>\n",
              "      <td>0</td>\n",
              "      <td>0</td>\n",
              "      <td>0</td>\n",
              "      <td>1</td>\n",
              "    </tr>\n",
              "    <tr>\n",
              "      <th>4</th>\n",
              "      <td>0</td>\n",
              "      <td>0</td>\n",
              "      <td>0</td>\n",
              "      <td>0</td>\n",
              "      <td>1</td>\n",
              "    </tr>\n",
              "    <tr>\n",
              "      <th>...</th>\n",
              "      <td>...</td>\n",
              "      <td>...</td>\n",
              "      <td>...</td>\n",
              "      <td>...</td>\n",
              "      <td>...</td>\n",
              "    </tr>\n",
              "    <tr>\n",
              "      <th>37539</th>\n",
              "      <td>1</td>\n",
              "      <td>0</td>\n",
              "      <td>0</td>\n",
              "      <td>0</td>\n",
              "      <td>0</td>\n",
              "    </tr>\n",
              "    <tr>\n",
              "      <th>37540</th>\n",
              "      <td>0</td>\n",
              "      <td>0</td>\n",
              "      <td>0</td>\n",
              "      <td>0</td>\n",
              "      <td>1</td>\n",
              "    </tr>\n",
              "    <tr>\n",
              "      <th>37541</th>\n",
              "      <td>1</td>\n",
              "      <td>0</td>\n",
              "      <td>0</td>\n",
              "      <td>0</td>\n",
              "      <td>0</td>\n",
              "    </tr>\n",
              "    <tr>\n",
              "      <th>37542</th>\n",
              "      <td>1</td>\n",
              "      <td>0</td>\n",
              "      <td>0</td>\n",
              "      <td>0</td>\n",
              "      <td>0</td>\n",
              "    </tr>\n",
              "    <tr>\n",
              "      <th>37543</th>\n",
              "      <td>0</td>\n",
              "      <td>0</td>\n",
              "      <td>0</td>\n",
              "      <td>1</td>\n",
              "      <td>0</td>\n",
              "    </tr>\n",
              "  </tbody>\n",
              "</table>\n",
              "<p>37544 rows × 5 columns</p>\n",
              "</div>\n",
              "      <button class=\"colab-df-convert\" onclick=\"convertToInteractive('df-8f57a37d-e38b-4855-9860-78202151385c')\"\n",
              "              title=\"Convert this dataframe to an interactive table.\"\n",
              "              style=\"display:none;\">\n",
              "        \n",
              "  <svg xmlns=\"http://www.w3.org/2000/svg\" height=\"24px\"viewBox=\"0 0 24 24\"\n",
              "       width=\"24px\">\n",
              "    <path d=\"M0 0h24v24H0V0z\" fill=\"none\"/>\n",
              "    <path d=\"M18.56 5.44l.94 2.06.94-2.06 2.06-.94-2.06-.94-.94-2.06-.94 2.06-2.06.94zm-11 1L8.5 8.5l.94-2.06 2.06-.94-2.06-.94L8.5 2.5l-.94 2.06-2.06.94zm10 10l.94 2.06.94-2.06 2.06-.94-2.06-.94-.94-2.06-.94 2.06-2.06.94z\"/><path d=\"M17.41 7.96l-1.37-1.37c-.4-.4-.92-.59-1.43-.59-.52 0-1.04.2-1.43.59L10.3 9.45l-7.72 7.72c-.78.78-.78 2.05 0 2.83L4 21.41c.39.39.9.59 1.41.59.51 0 1.02-.2 1.41-.59l7.78-7.78 2.81-2.81c.8-.78.8-2.07 0-2.86zM5.41 20L4 18.59l7.72-7.72 1.47 1.35L5.41 20z\"/>\n",
              "  </svg>\n",
              "      </button>\n",
              "      \n",
              "  <style>\n",
              "    .colab-df-container {\n",
              "      display:flex;\n",
              "      flex-wrap:wrap;\n",
              "      gap: 12px;\n",
              "    }\n",
              "\n",
              "    .colab-df-convert {\n",
              "      background-color: #E8F0FE;\n",
              "      border: none;\n",
              "      border-radius: 50%;\n",
              "      cursor: pointer;\n",
              "      display: none;\n",
              "      fill: #1967D2;\n",
              "      height: 32px;\n",
              "      padding: 0 0 0 0;\n",
              "      width: 32px;\n",
              "    }\n",
              "\n",
              "    .colab-df-convert:hover {\n",
              "      background-color: #E2EBFA;\n",
              "      box-shadow: 0px 1px 2px rgba(60, 64, 67, 0.3), 0px 1px 3px 1px rgba(60, 64, 67, 0.15);\n",
              "      fill: #174EA6;\n",
              "    }\n",
              "\n",
              "    [theme=dark] .colab-df-convert {\n",
              "      background-color: #3B4455;\n",
              "      fill: #D2E3FC;\n",
              "    }\n",
              "\n",
              "    [theme=dark] .colab-df-convert:hover {\n",
              "      background-color: #434B5C;\n",
              "      box-shadow: 0px 1px 3px 1px rgba(0, 0, 0, 0.15);\n",
              "      filter: drop-shadow(0px 1px 2px rgba(0, 0, 0, 0.3));\n",
              "      fill: #FFFFFF;\n",
              "    }\n",
              "  </style>\n",
              "\n",
              "      <script>\n",
              "        const buttonEl =\n",
              "          document.querySelector('#df-8f57a37d-e38b-4855-9860-78202151385c button.colab-df-convert');\n",
              "        buttonEl.style.display =\n",
              "          google.colab.kernel.accessAllowed ? 'block' : 'none';\n",
              "\n",
              "        async function convertToInteractive(key) {\n",
              "          const element = document.querySelector('#df-8f57a37d-e38b-4855-9860-78202151385c');\n",
              "          const dataTable =\n",
              "            await google.colab.kernel.invokeFunction('convertToInteractive',\n",
              "                                                     [key], {});\n",
              "          if (!dataTable) return;\n",
              "\n",
              "          const docLinkHtml = 'Like what you see? Visit the ' +\n",
              "            '<a target=\"_blank\" href=https://colab.research.google.com/notebooks/data_table.ipynb>data table notebook</a>'\n",
              "            + ' to learn more about interactive tables.';\n",
              "          element.innerHTML = '';\n",
              "          dataTable['output_type'] = 'display_data';\n",
              "          await google.colab.output.renderOutput(dataTable, element);\n",
              "          const docLink = document.createElement('div');\n",
              "          docLink.innerHTML = docLinkHtml;\n",
              "          element.appendChild(docLink);\n",
              "        }\n",
              "      </script>\n",
              "    </div>\n",
              "  </div>\n",
              "  "
            ]
          },
          "metadata": {},
          "execution_count": 36
        }
      ]
    },
    {
      "cell_type": "code",
      "source": [
        "data['verification_status'].unique()"
      ],
      "metadata": {
        "colab": {
          "base_uri": "https://localhost:8080/",
          "height": 0
        },
        "id": "zD4xAJ_DnLFO",
        "outputId": "3651c3c8-8b4c-47f9-fbd1-e566d12d1e5a"
      },
      "execution_count": 37,
      "outputs": [
        {
          "output_type": "execute_result",
          "data": {
            "text/plain": [
              "array(['Verified', 'Source Verified', 'Not Verified'], dtype=object)"
            ]
          },
          "metadata": {},
          "execution_count": 37
        }
      ]
    },
    {
      "cell_type": "code",
      "source": [
        "data['purpose'].unique()"
      ],
      "metadata": {
        "colab": {
          "base_uri": "https://localhost:8080/",
          "height": 0
        },
        "id": "8FGEqQOynZf1",
        "outputId": "0cadc160-f449-4621-cfb0-9c70153bd048"
      },
      "execution_count": 38,
      "outputs": [
        {
          "output_type": "execute_result",
          "data": {
            "text/plain": [
              "array(['credit_card', 'car', 'small_business', 'other', 'wedding',\n",
              "       'debt_consolidation', 'home_improvement', 'major_purchase',\n",
              "       'medical', 'moving', 'vacation', 'house', 'renewable_energy',\n",
              "       'educational'], dtype=object)"
            ]
          },
          "metadata": {},
          "execution_count": 38
        }
      ]
    },
    {
      "cell_type": "code",
      "source": [
        "data.columns"
      ],
      "metadata": {
        "colab": {
          "base_uri": "https://localhost:8080/",
          "height": 0
        },
        "id": "mFgHT9DQnxxK",
        "outputId": "10a47472-6adf-4fd1-fce5-97d044885f20"
      },
      "execution_count": 39,
      "outputs": [
        {
          "output_type": "execute_result",
          "data": {
            "text/plain": [
              "Index(['loan_amnt', 'funded_amnt', 'funded_amnt_inv', 'term', 'int_rate',\n",
              "       'installment', 'grade', 'emp_length', 'home_ownership', 'annual_inc',\n",
              "       'verification_status', 'purpose', 'dti', 'delinq_2yrs',\n",
              "       'inq_last_6mths', 'open_acc', 'pub_rec', 'revol_bal', 'revol_util',\n",
              "       'total_acc', 'total_pymnt', 'total_pymnt_inv', 'total_rec_prncp',\n",
              "       'total_rec_int', 'total_rec_late_fee', 'recoveries',\n",
              "       'collection_recovery_fee', 'last_pymnt_amnt', 'pub_rec_bankruptcies',\n",
              "       'isd_month', 'isd_year', 'loan_status'],\n",
              "      dtype='object')"
            ]
          },
          "metadata": {},
          "execution_count": 39
        }
      ]
    },
    {
      "cell_type": "code",
      "source": [
        "data['emp_length'].unique()"
      ],
      "metadata": {
        "colab": {
          "base_uri": "https://localhost:8080/",
          "height": 0
        },
        "id": "nnWBu9HFpykw",
        "outputId": "f992063b-c208-4d5b-cbe7-41869161b9ff"
      },
      "execution_count": 40,
      "outputs": [
        {
          "output_type": "execute_result",
          "data": {
            "text/plain": [
              "array([10,  1,  3,  8,  9,  4,  5,  6,  2,  7])"
            ]
          },
          "metadata": {},
          "execution_count": 40
        }
      ]
    },
    {
      "cell_type": "code",
      "source": [
        "data['dti'].unique()"
      ],
      "metadata": {
        "colab": {
          "base_uri": "https://localhost:8080/",
          "height": 0
        },
        "id": "ZHOD4TF5qBXo",
        "outputId": "7572c5a5-fe9c-459d-bfe8-9c1d18f3a60a"
      },
      "execution_count": 41,
      "outputs": [
        {
          "output_type": "execute_result",
          "data": {
            "text/plain": [
              "array([27.65,  1.  ,  8.72, ...,  0.05,  0.12, 25.43])"
            ]
          },
          "metadata": {},
          "execution_count": 41
        }
      ]
    },
    {
      "cell_type": "code",
      "source": [],
      "metadata": {
        "id": "tkLEpoK1qNnZ"
      },
      "execution_count": 41,
      "outputs": []
    },
    {
      "cell_type": "code",
      "source": [],
      "metadata": {
        "id": "BR1B7UkntKKd"
      },
      "execution_count": 41,
      "outputs": []
    },
    {
      "cell_type": "code",
      "source": [
        "x=data.drop(['emp_length','dti','open_acc','loan_status','home_ownership','verification_status','purpose',],axis=1)"
      ],
      "metadata": {
        "id": "Mvv3LW9ytKFj"
      },
      "execution_count": 42,
      "outputs": []
    },
    {
      "cell_type": "code",
      "source": [
        "x.info()"
      ],
      "metadata": {
        "colab": {
          "base_uri": "https://localhost:8080/",
          "height": 0
        },
        "id": "PRLxo-tS6Tb8",
        "outputId": "c462d703-693a-4ea3-a9d6-46fee3983d88"
      },
      "execution_count": 43,
      "outputs": [
        {
          "output_type": "stream",
          "name": "stdout",
          "text": [
            "<class 'pandas.core.frame.DataFrame'>\n",
            "RangeIndex: 37544 entries, 0 to 37543\n",
            "Data columns (total 25 columns):\n",
            " #   Column                   Non-Null Count  Dtype  \n",
            "---  ------                   --------------  -----  \n",
            " 0   loan_amnt                37544 non-null  int64  \n",
            " 1   funded_amnt              37544 non-null  int64  \n",
            " 2   funded_amnt_inv          37544 non-null  float64\n",
            " 3   term                     37544 non-null  float64\n",
            " 4   int_rate                 37544 non-null  float64\n",
            " 5   installment              37544 non-null  float64\n",
            " 6   grade                    37544 non-null  int64  \n",
            " 7   annual_inc               37544 non-null  float64\n",
            " 8   delinq_2yrs              37544 non-null  int64  \n",
            " 9   inq_last_6mths           37544 non-null  int64  \n",
            " 10  pub_rec                  37544 non-null  int64  \n",
            " 11  revol_bal                37544 non-null  int64  \n",
            " 12  revol_util               37544 non-null  float64\n",
            " 13  total_acc                37544 non-null  int64  \n",
            " 14  total_pymnt              37544 non-null  float64\n",
            " 15  total_pymnt_inv          37544 non-null  float64\n",
            " 16  total_rec_prncp          37544 non-null  float64\n",
            " 17  total_rec_int            37544 non-null  float64\n",
            " 18  total_rec_late_fee       37544 non-null  float64\n",
            " 19  recoveries               37544 non-null  float64\n",
            " 20  collection_recovery_fee  37544 non-null  float64\n",
            " 21  last_pymnt_amnt          37544 non-null  float64\n",
            " 22  pub_rec_bankruptcies     37544 non-null  float64\n",
            " 23  isd_month                37544 non-null  int64  \n",
            " 24  isd_year                 37544 non-null  int64  \n",
            "dtypes: float64(15), int64(10)\n",
            "memory usage: 7.2 MB\n"
          ]
        }
      ]
    },
    {
      "cell_type": "code",
      "source": [
        "data['home_ownership'].unique()"
      ],
      "metadata": {
        "colab": {
          "base_uri": "https://localhost:8080/",
          "height": 0
        },
        "id": "6j2KEu6o63dH",
        "outputId": "604ad366-12da-4191-a697-b46d5fdfa99f"
      },
      "execution_count": 44,
      "outputs": [
        {
          "output_type": "execute_result",
          "data": {
            "text/plain": [
              "array(['RENT', 'OWN', 'MORTGAGE', 'OTHER', 'NONE'], dtype=object)"
            ]
          },
          "metadata": {},
          "execution_count": 44
        }
      ]
    },
    {
      "cell_type": "code",
      "source": [
        "data['verification_status'].unique()"
      ],
      "metadata": {
        "colab": {
          "base_uri": "https://localhost:8080/",
          "height": 0
        },
        "id": "82EJsqZ97Cqv",
        "outputId": "ae7f4d9b-ea7f-4bfb-e35d-be822563775a"
      },
      "execution_count": 45,
      "outputs": [
        {
          "output_type": "execute_result",
          "data": {
            "text/plain": [
              "array(['Verified', 'Source Verified', 'Not Verified'], dtype=object)"
            ]
          },
          "metadata": {},
          "execution_count": 45
        }
      ]
    },
    {
      "cell_type": "code",
      "source": [
        "data['purpose'].unique()"
      ],
      "metadata": {
        "colab": {
          "base_uri": "https://localhost:8080/",
          "height": 0
        },
        "id": "rvPSuRBC7Rzm",
        "outputId": "32bb2b90-f332-41c0-912a-376125ae6e08"
      },
      "execution_count": 46,
      "outputs": [
        {
          "output_type": "execute_result",
          "data": {
            "text/plain": [
              "array(['credit_card', 'car', 'small_business', 'other', 'wedding',\n",
              "       'debt_consolidation', 'home_improvement', 'major_purchase',\n",
              "       'medical', 'moving', 'vacation', 'house', 'renewable_energy',\n",
              "       'educational'], dtype=object)"
            ]
          },
          "metadata": {},
          "execution_count": 46
        }
      ]
    },
    {
      "cell_type": "code",
      "source": [
        "y=data['loan_status']"
      ],
      "metadata": {
        "id": "U2ZBiNymtzJ-"
      },
      "execution_count": 47,
      "outputs": []
    },
    {
      "cell_type": "code",
      "source": [
        "x=pd.get_dummies(x)"
      ],
      "metadata": {
        "id": "jdmd1W5-oIWE"
      },
      "execution_count": 48,
      "outputs": []
    },
    {
      "cell_type": "code",
      "source": [
        "x.info()"
      ],
      "metadata": {
        "colab": {
          "base_uri": "https://localhost:8080/",
          "height": 0
        },
        "id": "SEzTvahYqlvs",
        "outputId": "e59ab6b9-d5a0-48e5-e3b2-8796644c4452"
      },
      "execution_count": 49,
      "outputs": [
        {
          "output_type": "stream",
          "name": "stdout",
          "text": [
            "<class 'pandas.core.frame.DataFrame'>\n",
            "RangeIndex: 37544 entries, 0 to 37543\n",
            "Data columns (total 25 columns):\n",
            " #   Column                   Non-Null Count  Dtype  \n",
            "---  ------                   --------------  -----  \n",
            " 0   loan_amnt                37544 non-null  int64  \n",
            " 1   funded_amnt              37544 non-null  int64  \n",
            " 2   funded_amnt_inv          37544 non-null  float64\n",
            " 3   term                     37544 non-null  float64\n",
            " 4   int_rate                 37544 non-null  float64\n",
            " 5   installment              37544 non-null  float64\n",
            " 6   grade                    37544 non-null  int64  \n",
            " 7   annual_inc               37544 non-null  float64\n",
            " 8   delinq_2yrs              37544 non-null  int64  \n",
            " 9   inq_last_6mths           37544 non-null  int64  \n",
            " 10  pub_rec                  37544 non-null  int64  \n",
            " 11  revol_bal                37544 non-null  int64  \n",
            " 12  revol_util               37544 non-null  float64\n",
            " 13  total_acc                37544 non-null  int64  \n",
            " 14  total_pymnt              37544 non-null  float64\n",
            " 15  total_pymnt_inv          37544 non-null  float64\n",
            " 16  total_rec_prncp          37544 non-null  float64\n",
            " 17  total_rec_int            37544 non-null  float64\n",
            " 18  total_rec_late_fee       37544 non-null  float64\n",
            " 19  recoveries               37544 non-null  float64\n",
            " 20  collection_recovery_fee  37544 non-null  float64\n",
            " 21  last_pymnt_amnt          37544 non-null  float64\n",
            " 22  pub_rec_bankruptcies     37544 non-null  float64\n",
            " 23  isd_month                37544 non-null  int64  \n",
            " 24  isd_year                 37544 non-null  int64  \n",
            "dtypes: float64(15), int64(10)\n",
            "memory usage: 7.2 MB\n"
          ]
        }
      ]
    },
    {
      "cell_type": "code",
      "source": [
        "data['loan_status'].unique()"
      ],
      "metadata": {
        "colab": {
          "base_uri": "https://localhost:8080/",
          "height": 0
        },
        "id": "NjF_P52HoS6h",
        "outputId": "2e572551-516d-429c-fd4e-c36f503f7f5c"
      },
      "execution_count": 50,
      "outputs": [
        {
          "output_type": "execute_result",
          "data": {
            "text/plain": [
              "array(['Fully Paid', 'Charged Off'], dtype=object)"
            ]
          },
          "metadata": {},
          "execution_count": 50
        }
      ]
    },
    {
      "cell_type": "code",
      "source": [
        "data['loan_status'].unique()"
      ],
      "metadata": {
        "colab": {
          "base_uri": "https://localhost:8080/",
          "height": 0
        },
        "id": "T8hG4lFJ1Z6H",
        "outputId": "babbcb62-5006-49a2-a130-7302b7361bac"
      },
      "execution_count": 51,
      "outputs": [
        {
          "output_type": "execute_result",
          "data": {
            "text/plain": [
              "array(['Fully Paid', 'Charged Off'], dtype=object)"
            ]
          },
          "metadata": {},
          "execution_count": 51
        }
      ]
    },
    {
      "cell_type": "code",
      "source": [
        "loan_status={'Fully Paid':0,'Charged Off':1}"
      ],
      "metadata": {
        "id": "Gt_J5BOI1ymd"
      },
      "execution_count": 52,
      "outputs": []
    },
    {
      "cell_type": "code",
      "source": [
        "data['loan_status']=data['loan_status'].map(loan_status)"
      ],
      "metadata": {
        "id": "LNq2_AfX2HDI"
      },
      "execution_count": 53,
      "outputs": []
    },
    {
      "cell_type": "code",
      "source": [
        "y=data['loan_status']"
      ],
      "metadata": {
        "id": "ubUdzswa2b74"
      },
      "execution_count": 54,
      "outputs": []
    },
    {
      "cell_type": "markdown",
      "source": [
        "splitting the data into train and test"
      ],
      "metadata": {
        "id": "UbdD4bURpKOm"
      }
    },
    {
      "cell_type": "code",
      "source": [
        "from sklearn.model_selection import train_test_split"
      ],
      "metadata": {
        "id": "vr_07QDootgm"
      },
      "execution_count": 55,
      "outputs": []
    },
    {
      "cell_type": "code",
      "source": [
        "x.shape"
      ],
      "metadata": {
        "colab": {
          "base_uri": "https://localhost:8080/",
          "height": 0
        },
        "id": "F3vgv1mHsmXO",
        "outputId": "f0cf3b58-0b48-4e83-aed4-4532b8822e4b"
      },
      "execution_count": 56,
      "outputs": [
        {
          "output_type": "execute_result",
          "data": {
            "text/plain": [
              "(37544, 25)"
            ]
          },
          "metadata": {},
          "execution_count": 56
        }
      ]
    },
    {
      "cell_type": "code",
      "source": [
        "y.shape"
      ],
      "metadata": {
        "colab": {
          "base_uri": "https://localhost:8080/",
          "height": 0
        },
        "id": "14N2JOw0sugA",
        "outputId": "9431f8e4-b862-4e12-abf5-5ec70bbb1e3d"
      },
      "execution_count": 57,
      "outputs": [
        {
          "output_type": "execute_result",
          "data": {
            "text/plain": [
              "(37544,)"
            ]
          },
          "metadata": {},
          "execution_count": 57
        }
      ]
    },
    {
      "cell_type": "code",
      "source": [
        "x_train, x_test, y_train , y_test = train_test_split(x,y,test_size=0.2,\n",
        "                                                    random_state=123)"
      ],
      "metadata": {
        "id": "sfB8CY7PpN6f"
      },
      "execution_count": 58,
      "outputs": []
    },
    {
      "cell_type": "markdown",
      "source": [
        "applying linear regression on the train data and predicting using x_test"
      ],
      "metadata": {
        "id": "EMTDhcCAuDFl"
      }
    },
    {
      "cell_type": "code",
      "source": [
        "from sklearn.linear_model import LinearRegression"
      ],
      "metadata": {
        "id": "4lTIvtR-pQXG"
      },
      "execution_count": 59,
      "outputs": []
    },
    {
      "cell_type": "code",
      "source": [
        "lr = LinearRegression()"
      ],
      "metadata": {
        "id": "z1Cu0YQhuGsL"
      },
      "execution_count": 60,
      "outputs": []
    },
    {
      "cell_type": "code",
      "source": [
        "lr.fit(x_train, y_train)"
      ],
      "metadata": {
        "colab": {
          "base_uri": "https://localhost:8080/",
          "height": 0
        },
        "id": "T8IzXvppuJEh",
        "outputId": "bd8e183f-c214-43a4-e1b5-48c28d65a621"
      },
      "execution_count": 61,
      "outputs": [
        {
          "output_type": "execute_result",
          "data": {
            "text/plain": [
              "LinearRegression()"
            ]
          },
          "metadata": {},
          "execution_count": 61
        }
      ]
    },
    {
      "cell_type": "code",
      "source": [
        "y_pred = lr.predict(x_test)"
      ],
      "metadata": {
        "id": "UfBQureHuK4B"
      },
      "execution_count": 62,
      "outputs": []
    },
    {
      "cell_type": "markdown",
      "source": [
        "calculating the mean squared error and r squared values"
      ],
      "metadata": {
        "id": "RoEDmi2yuP02"
      }
    },
    {
      "cell_type": "code",
      "source": [
        "from sklearn.metrics import mean_squared_error, r2_score"
      ],
      "metadata": {
        "id": "v57nYKdUuNPJ"
      },
      "execution_count": 63,
      "outputs": []
    },
    {
      "cell_type": "code",
      "source": [
        "mean_squared_error(y_test,y_pred)"
      ],
      "metadata": {
        "colab": {
          "base_uri": "https://localhost:8080/",
          "height": 0
        },
        "id": "vB2mrJjeuTUL",
        "outputId": "cbf258f2-3513-4241-98ff-9d1f4ca3071f"
      },
      "execution_count": 64,
      "outputs": [
        {
          "output_type": "execute_result",
          "data": {
            "text/plain": [
              "0.049715371923717354"
            ]
          },
          "metadata": {},
          "execution_count": 64
        }
      ]
    },
    {
      "cell_type": "code",
      "source": [
        "r2_score(y_test,y_pred)"
      ],
      "metadata": {
        "colab": {
          "base_uri": "https://localhost:8080/",
          "height": 0
        },
        "id": "hb32go8KuVkg",
        "outputId": "085bce83-57e2-4390-f47a-500a40917f35"
      },
      "execution_count": 65,
      "outputs": [
        {
          "output_type": "execute_result",
          "data": {
            "text/plain": [
              "0.6008723393512865"
            ]
          },
          "metadata": {},
          "execution_count": 65
        }
      ]
    },
    {
      "cell_type": "markdown",
      "source": [
        "## Lasso regression\n"
      ],
      "metadata": {
        "id": "It4JykiSuhAp"
      }
    },
    {
      "cell_type": "code",
      "source": [
        "# Import the lasso regressor class \n",
        "from sklearn.linear_model import Lasso\n",
        "# Create an instance of the class\n",
        "lasso = Lasso(alpha=10)\n",
        "# Use the fit method on training data\n",
        "lasso.fit(x_train, y_train)\n",
        "# Use the predict method on test data\n",
        "y_pred_lasso = lasso.predict(x_test)\n",
        "\n",
        "## calculate the mean square error\n",
        "mse_lasso = mean_squared_error(y_test, y_pred_lasso)\n",
        "print('{:0.2f}'.format(mse_lasso))"
      ],
      "metadata": {
        "colab": {
          "base_uri": "https://localhost:8080/",
          "height": 0
        },
        "id": "QKBOjzEMujjh",
        "outputId": "5658b53a-b852-42ab-c6a9-4e6a21027914"
      },
      "execution_count": 66,
      "outputs": [
        {
          "output_type": "stream",
          "name": "stdout",
          "text": [
            "0.05\n"
          ]
        }
      ]
    },
    {
      "cell_type": "code",
      "source": [
        "r2_score(y_test, y_pred_lasso)"
      ],
      "metadata": {
        "colab": {
          "base_uri": "https://localhost:8080/",
          "height": 0
        },
        "id": "ZXEdGqUGunJS",
        "outputId": "66d9c7ff-6617-42e8-e236-7c1e7a51a819"
      },
      "execution_count": 67,
      "outputs": [
        {
          "output_type": "execute_result",
          "data": {
            "text/plain": [
              "0.5899776465814609"
            ]
          },
          "metadata": {},
          "execution_count": 67
        }
      ]
    },
    {
      "cell_type": "code",
      "source": [
        "# Import the lasso regressor class \n",
        "from sklearn.linear_model import Ridge\n",
        "# Create an instance of the class\n",
        "ridge = Ridge()\n",
        "# Use the fit method on training data\n",
        "ridge.fit(x_train, y_train)\n",
        "# Use the predict method on test data\n",
        "y_pred_ridge = ridge.predict(x_test)\n",
        "\n",
        "## calculate the mean square error\n",
        "mse_ridge = mean_squared_error(y_test, y_pred_ridge)\n",
        "print('{:0.2f}'.format(mse_ridge))"
      ],
      "metadata": {
        "colab": {
          "base_uri": "https://localhost:8080/",
          "height": 0
        },
        "id": "KDLQFC9IupgR",
        "outputId": "6e6102e3-da5c-4a50-fd83-60295fdfc2c4"
      },
      "execution_count": 68,
      "outputs": [
        {
          "output_type": "stream",
          "name": "stdout",
          "text": [
            "0.05\n"
          ]
        }
      ]
    },
    {
      "cell_type": "code",
      "source": [
        "r2_score(y_test, y_pred_ridge)"
      ],
      "metadata": {
        "colab": {
          "base_uri": "https://localhost:8080/",
          "height": 0
        },
        "id": "dyzeeu_Vut65",
        "outputId": "b96dcf53-5ef0-463e-8810-a6cc87879ec3"
      },
      "execution_count": 69,
      "outputs": [
        {
          "output_type": "execute_result",
          "data": {
            "text/plain": [
              "0.600883573354266"
            ]
          },
          "metadata": {},
          "execution_count": 69
        }
      ]
    },
    {
      "cell_type": "markdown",
      "source": [
        "KNN Regression"
      ],
      "metadata": {
        "id": "u6OeHW9Nuz2i"
      }
    },
    {
      "cell_type": "code",
      "source": [
        "# Import the knn regressor class \n",
        "from sklearn.neighbors import KNeighborsRegressor\n",
        "# Create an instance of the class\n",
        "knn = KNeighborsRegressor(n_neighbors=12)\n",
        "# Use the fit method on training data\n",
        "knn.fit(x_train, y_train)\n",
        "# Use the predict method on test data\n",
        "y_pred_knn = knn.predict(x_test)\n",
        "mean_squared_error(y_test, y_pred_knn)"
      ],
      "metadata": {
        "colab": {
          "base_uri": "https://localhost:8080/",
          "height": 0
        },
        "id": "TAou3s59uxyE",
        "outputId": "ba95a0ea-8e68-4aad-cd7f-de4f348e8e9e"
      },
      "execution_count": 70,
      "outputs": [
        {
          "output_type": "execute_result",
          "data": {
            "text/plain": [
              "0.037543836285346466"
            ]
          },
          "metadata": {},
          "execution_count": 70
        }
      ]
    },
    {
      "cell_type": "code",
      "source": [
        "r2_score(y_test, y_pred_knn)"
      ],
      "metadata": {
        "colab": {
          "base_uri": "https://localhost:8080/",
          "height": 0
        },
        "id": "e3lDm4W9uxun",
        "outputId": "2d8696ec-deb4-4a63-da0d-5e238cc575ee"
      },
      "execution_count": 71,
      "outputs": [
        {
          "output_type": "execute_result",
          "data": {
            "text/plain": [
              "0.6985885256708713"
            ]
          },
          "metadata": {},
          "execution_count": 71
        }
      ]
    },
    {
      "cell_type": "code",
      "source": [
        "#calculate the mean square error\n",
        "mse_knn = mean_squared_error(y_test, y_pred_knn)\n",
        "print('{:0.2f}'.format(mse_knn))"
      ],
      "metadata": {
        "colab": {
          "base_uri": "https://localhost:8080/",
          "height": 0
        },
        "id": "RzCwJvbau6Tv",
        "outputId": "1f803fbe-0271-4afd-d8e9-9adcbe861714"
      },
      "execution_count": 72,
      "outputs": [
        {
          "output_type": "stream",
          "name": "stdout",
          "text": [
            "0.04\n"
          ]
        }
      ]
    },
    {
      "cell_type": "markdown",
      "source": [
        "Decision Tree regressor"
      ],
      "metadata": {
        "id": "-CZ3jssivAtm"
      }
    },
    {
      "cell_type": "code",
      "source": [
        "from sklearn.tree import DecisionTreeRegressor\n",
        "# Create an instance of the class\n",
        "dt_reg = DecisionTreeRegressor(random_state=45,max_depth=15)\n",
        "# Use the fit method on training data\n",
        "dt_reg.fit(x_train, y_train)\n",
        "# Use the predict method on test data\n",
        "y_pred_dt = dt_reg.predict(x_test)\n",
        "\n",
        "## calculate the mean square error\n",
        "mse_dt = mean_squared_error(y_test, y_pred_dt)\n",
        "print('{:0.2f}'.format(mse_dt))"
      ],
      "metadata": {
        "colab": {
          "base_uri": "https://localhost:8080/",
          "height": 0
        },
        "id": "3vu8SeX8u-Jp",
        "outputId": "30d1e638-b622-4d23-ab31-53bef76adeac"
      },
      "execution_count": 73,
      "outputs": [
        {
          "output_type": "stream",
          "name": "stdout",
          "text": [
            "0.01\n"
          ]
        }
      ]
    },
    {
      "cell_type": "code",
      "source": [
        "r2_score(y_test, y_pred_dt)"
      ],
      "metadata": {
        "colab": {
          "base_uri": "https://localhost:8080/",
          "height": 0
        },
        "id": "_OzY0iXNvEIw",
        "outputId": "5a039ad2-882a-4fc9-ed0a-7e62342c870a"
      },
      "execution_count": 74,
      "outputs": [
        {
          "output_type": "execute_result",
          "data": {
            "text/plain": [
              "0.9581349094428957"
            ]
          },
          "metadata": {},
          "execution_count": 74
        }
      ]
    },
    {
      "cell_type": "code",
      "source": [
        "dt_reg = DecisionTreeRegressor(max_depth=16)\n",
        "from sklearn.ensemble import BaggingRegressor\n",
        "bg_regr = BaggingRegressor(base_estimator=dt_reg, n_estimators=500, random_state=123)\n",
        "bg_regr.fit(x_train,y_train)\n",
        "y_pred_bg = bg_regr.predict(x_test)\n",
        "## calculate the mean square error\n",
        "mse_bg = mean_squared_error(y_test, y_pred_bg)\n",
        "print('{:0.2f}'.format(mse_bg))"
      ],
      "metadata": {
        "colab": {
          "base_uri": "https://localhost:8080/",
          "height": 0
        },
        "id": "OYhJ1E7bvG7i",
        "outputId": "2c531f6c-957a-4d8f-8b4b-358d979ba5fc"
      },
      "execution_count": 75,
      "outputs": [
        {
          "output_type": "stream",
          "name": "stdout",
          "text": [
            "0.00\n"
          ]
        }
      ]
    },
    {
      "cell_type": "markdown",
      "source": [
        "random Forest regressor"
      ],
      "metadata": {
        "id": "wKqPp8LEvVIg"
      }
    },
    {
      "cell_type": "code",
      "source": [
        "from sklearn.ensemble import RandomForestRegressor\n",
        "# Create an instance of the class-\n",
        "rf_reg = RandomForestRegressor(random_state=45,max_depth=16,n_estimators=500)\n",
        "# Use the fit method on training data\n",
        "rf_reg.fit(x_train, y_train)\n",
        "# Use the predict method on test data\n",
        "y_pred_rf = rf_reg.predict(x_test)\n",
        "\n",
        "## calculate the mean square error\n",
        "mse_rf = mean_squared_error(y_test, y_pred_rf)\n",
        "print('{:0.2f}'.format(mse_rf))"
      ],
      "metadata": {
        "colab": {
          "base_uri": "https://localhost:8080/",
          "height": 0
        },
        "id": "vLAAU_hbvWGJ",
        "outputId": "fafaa5b4-80ec-4b80-9049-0b31f1b3dc5a"
      },
      "execution_count": 76,
      "outputs": [
        {
          "output_type": "stream",
          "name": "stdout",
          "text": [
            "0.00\n"
          ]
        }
      ]
    },
    {
      "cell_type": "code",
      "source": [
        "from tensorflow.keras.models import Sequential\n",
        "from tensorflow.keras.layers import Dense"
      ],
      "metadata": {
        "id": "MiFxr9LMvY1y"
      },
      "execution_count": 77,
      "outputs": []
    },
    {
      "cell_type": "code",
      "source": [
        "x_train.shape, y_train.shape"
      ],
      "metadata": {
        "colab": {
          "base_uri": "https://localhost:8080/",
          "height": 0
        },
        "id": "pc-7UimVvb6K",
        "outputId": "519d6c85-51fe-46eb-bdd4-8a18f071c7d1"
      },
      "execution_count": 78,
      "outputs": [
        {
          "output_type": "execute_result",
          "data": {
            "text/plain": [
              "((30035, 25), (30035,))"
            ]
          },
          "metadata": {},
          "execution_count": 78
        }
      ]
    },
    {
      "cell_type": "code",
      "source": [
        "nn_seq = Sequential()\n",
        "nn_seq.add(Dense(32, activation = \"relu\",input_shape = (25,)))\n",
        "nn_seq.add(Dense(16, activation = \"relu\"))\n",
        "nn_seq.add(Dense(8, activation = \"relu\"))\n",
        "nn_seq.add(Dense(1, activation = None))   ### regression problem \n",
        "nn_seq.summary()"
      ],
      "metadata": {
        "colab": {
          "base_uri": "https://localhost:8080/",
          "height": 0
        },
        "id": "c13XFrO0vebc",
        "outputId": "141663e8-e763-48d4-d05e-c7af70e78f79"
      },
      "execution_count": 79,
      "outputs": [
        {
          "output_type": "stream",
          "name": "stdout",
          "text": [
            "Model: \"sequential\"\n",
            "_________________________________________________________________\n",
            " Layer (type)                Output Shape              Param #   \n",
            "=================================================================\n",
            " dense (Dense)               (None, 32)                832       \n",
            "                                                                 \n",
            " dense_1 (Dense)             (None, 16)                528       \n",
            "                                                                 \n",
            " dense_2 (Dense)             (None, 8)                 136       \n",
            "                                                                 \n",
            " dense_3 (Dense)             (None, 1)                 9         \n",
            "                                                                 \n",
            "=================================================================\n",
            "Total params: 1,505\n",
            "Trainable params: 1,505\n",
            "Non-trainable params: 0\n",
            "_________________________________________________________________\n"
          ]
        }
      ]
    },
    {
      "cell_type": "code",
      "source": [
        "nn_seq.compile(optimizer=\"adam\",metrics = [\"mse\"], loss = \"mean_squared_error\")"
      ],
      "metadata": {
        "id": "_YnPPhAxvg3g"
      },
      "execution_count": 80,
      "outputs": []
    },
    {
      "cell_type": "code",
      "source": [
        "epochs = 10\n",
        "batch_size = 64\n",
        "nn_seq.fit(x_train, y_train , epochs = epochs, batch_size= batch_size)"
      ],
      "metadata": {
        "colab": {
          "base_uri": "https://localhost:8080/",
          "height": 0
        },
        "id": "e-SoYBvtvj2L",
        "outputId": "68785fe1-2256-49b3-9537-98b15d496b00"
      },
      "execution_count": 81,
      "outputs": [
        {
          "output_type": "stream",
          "name": "stdout",
          "text": [
            "Epoch 1/10\n",
            "470/470 [==============================] - 2s 3ms/step - loss: 519012.7812 - mse: 519012.7812\n",
            "Epoch 2/10\n",
            "470/470 [==============================] - 1s 3ms/step - loss: 5142.2720 - mse: 5142.2720\n",
            "Epoch 3/10\n",
            "470/470 [==============================] - 1s 3ms/step - loss: 19.7099 - mse: 19.7099\n",
            "Epoch 4/10\n",
            "470/470 [==============================] - 1s 2ms/step - loss: 0.1556 - mse: 0.1556\n",
            "Epoch 5/10\n",
            "470/470 [==============================] - 1s 2ms/step - loss: 0.1570 - mse: 0.1570\n",
            "Epoch 6/10\n",
            "470/470 [==============================] - 1s 2ms/step - loss: 0.1606 - mse: 0.1606\n",
            "Epoch 7/10\n",
            "470/470 [==============================] - 1s 2ms/step - loss: 0.1761 - mse: 0.1761\n",
            "Epoch 8/10\n",
            "470/470 [==============================] - 1s 2ms/step - loss: 0.1594 - mse: 0.1594\n",
            "Epoch 9/10\n",
            "470/470 [==============================] - 1s 2ms/step - loss: 0.1687 - mse: 0.1687\n",
            "Epoch 10/10\n",
            "470/470 [==============================] - 1s 2ms/step - loss: 0.1990 - mse: 0.1990\n"
          ]
        },
        {
          "output_type": "execute_result",
          "data": {
            "text/plain": [
              "<keras.callbacks.History at 0x7f4fe5096b20>"
            ]
          },
          "metadata": {},
          "execution_count": 81
        }
      ]
    },
    {
      "cell_type": "code",
      "source": [
        "y_pred = nn_seq.predict(x_test)"
      ],
      "metadata": {
        "colab": {
          "base_uri": "https://localhost:8080/",
          "height": 0
        },
        "id": "FIUzmqr7voJo",
        "outputId": "3ef2d5da-e7ef-435c-ee00-fc4b0492a501"
      },
      "execution_count": 82,
      "outputs": [
        {
          "output_type": "stream",
          "name": "stdout",
          "text": [
            "235/235 [==============================] - 0s 1ms/step\n"
          ]
        }
      ]
    },
    {
      "cell_type": "code",
      "source": [
        "from sklearn.metrics import mean_squared_error"
      ],
      "metadata": {
        "id": "aivKkFqCvqcA"
      },
      "execution_count": 83,
      "outputs": []
    },
    {
      "cell_type": "code",
      "source": [
        "mean_squared_error(y_test, y_pred) "
      ],
      "metadata": {
        "colab": {
          "base_uri": "https://localhost:8080/",
          "height": 0
        },
        "id": "DHx-rcL0vsI8",
        "outputId": "8ddfb55e-fb8a-4947-f4f3-8b7d6155de95"
      },
      "execution_count": 84,
      "outputs": [
        {
          "output_type": "execute_result",
          "data": {
            "text/plain": [
              "0.1436619038680757"
            ]
          },
          "metadata": {},
          "execution_count": 84
        }
      ]
    },
    {
      "cell_type": "markdown",
      "source": [
        "Model2"
      ],
      "metadata": {
        "id": "0vBboBTpvusa"
      }
    },
    {
      "cell_type": "markdown",
      "source": [
        "6 hidden layers, 64-neurons, epcohs = 50"
      ],
      "metadata": {
        "id": "R2ipQdRuvzX5"
      }
    },
    {
      "cell_type": "code",
      "source": [
        "nn_reg2 = Sequential()\n",
        "nn_reg2.add(Dense(64, activation = \"relu\", input_shape = (25,)))\n",
        "nn_reg2.add(Dense(64, activation = \"relu\"))\n",
        "nn_reg2.add(Dense(64, activation = \"relu\"))\n",
        "nn_reg2.add(Dense(64, activation = \"relu\"))\n",
        "nn_reg2.add(Dense(64, activation = \"relu\"))\n",
        "nn_reg2.add(Dense(64, activation = \"relu\"))\n",
        "nn_reg2.add(Dense(1, activation = None))\n",
        "nn_reg2.summary()"
      ],
      "metadata": {
        "colab": {
          "base_uri": "https://localhost:8080/",
          "height": 0
        },
        "id": "G0GLFZNevw6Z",
        "outputId": "d15d4ee6-6df8-42cf-ba7f-136ce6e7de82"
      },
      "execution_count": 85,
      "outputs": [
        {
          "output_type": "stream",
          "name": "stdout",
          "text": [
            "Model: \"sequential_1\"\n",
            "_________________________________________________________________\n",
            " Layer (type)                Output Shape              Param #   \n",
            "=================================================================\n",
            " dense_4 (Dense)             (None, 64)                1664      \n",
            "                                                                 \n",
            " dense_5 (Dense)             (None, 64)                4160      \n",
            "                                                                 \n",
            " dense_6 (Dense)             (None, 64)                4160      \n",
            "                                                                 \n",
            " dense_7 (Dense)             (None, 64)                4160      \n",
            "                                                                 \n",
            " dense_8 (Dense)             (None, 64)                4160      \n",
            "                                                                 \n",
            " dense_9 (Dense)             (None, 64)                4160      \n",
            "                                                                 \n",
            " dense_10 (Dense)            (None, 1)                 65        \n",
            "                                                                 \n",
            "=================================================================\n",
            "Total params: 22,529\n",
            "Trainable params: 22,529\n",
            "Non-trainable params: 0\n",
            "_________________________________________________________________\n"
          ]
        }
      ]
    },
    {
      "cell_type": "code",
      "source": [
        "nn_reg2.compile(optimizer=\"adam\", loss = \"mean_squared_error\",metrics = [\"mse\"])"
      ],
      "metadata": {
        "id": "WWceEuWEv2vZ"
      },
      "execution_count": 86,
      "outputs": []
    },
    {
      "cell_type": "code",
      "source": [
        "history1 = nn_reg2.fit(x_train , y_train , epochs = 50, batch_size = 64,\n",
        "           validation_split = 0.1)"
      ],
      "metadata": {
        "colab": {
          "base_uri": "https://localhost:8080/",
          "height": 0
        },
        "id": "Ncrgi3ZHv6Nn",
        "outputId": "2b76ef8f-66b1-4510-de43-d2bbcb12ee12"
      },
      "execution_count": 87,
      "outputs": [
        {
          "output_type": "stream",
          "name": "stdout",
          "text": [
            "Epoch 1/50\n",
            "423/423 [==============================] - 3s 5ms/step - loss: 11650.2852 - mse: 11650.2852 - val_loss: 1309.9055 - val_mse: 1309.9055\n",
            "Epoch 2/50\n",
            "423/423 [==============================] - 2s 4ms/step - loss: 7096.5508 - mse: 7096.5508 - val_loss: 460.6524 - val_mse: 460.6524\n",
            "Epoch 3/50\n",
            "423/423 [==============================] - 2s 4ms/step - loss: 232.4824 - mse: 232.4824 - val_loss: 33.1676 - val_mse: 33.1676\n",
            "Epoch 4/50\n",
            "423/423 [==============================] - 2s 4ms/step - loss: 2289.9924 - mse: 2289.9924 - val_loss: 91.6174 - val_mse: 91.6174\n",
            "Epoch 5/50\n",
            "423/423 [==============================] - 2s 4ms/step - loss: 461.9051 - mse: 461.9051 - val_loss: 26.1246 - val_mse: 26.1246\n",
            "Epoch 6/50\n",
            "423/423 [==============================] - 2s 4ms/step - loss: 79.8897 - mse: 79.8897 - val_loss: 13.5064 - val_mse: 13.5064\n",
            "Epoch 7/50\n",
            "423/423 [==============================] - 1s 3ms/step - loss: 25.0611 - mse: 25.0611 - val_loss: 7.9308 - val_mse: 7.9308\n",
            "Epoch 8/50\n",
            "423/423 [==============================] - 1s 3ms/step - loss: 109.2864 - mse: 109.2864 - val_loss: 5067.1143 - val_mse: 5067.1143\n",
            "Epoch 9/50\n",
            "423/423 [==============================] - 1s 3ms/step - loss: 950.9190 - mse: 950.9190 - val_loss: 6.9929 - val_mse: 6.9929\n",
            "Epoch 10/50\n",
            "423/423 [==============================] - 1s 4ms/step - loss: 192.1715 - mse: 192.1715 - val_loss: 117.3507 - val_mse: 117.3507\n",
            "Epoch 11/50\n",
            "423/423 [==============================] - 1s 3ms/step - loss: 123.3878 - mse: 123.3878 - val_loss: 65.7348 - val_mse: 65.7348\n",
            "Epoch 12/50\n",
            "423/423 [==============================] - 1s 3ms/step - loss: 311.3701 - mse: 311.3701 - val_loss: 33.5349 - val_mse: 33.5349\n",
            "Epoch 13/50\n",
            "423/423 [==============================] - 2s 4ms/step - loss: 92.6530 - mse: 92.6530 - val_loss: 19.6029 - val_mse: 19.6029\n",
            "Epoch 14/50\n",
            "423/423 [==============================] - 2s 4ms/step - loss: 77.0554 - mse: 77.0554 - val_loss: 3.5574 - val_mse: 3.5574\n",
            "Epoch 15/50\n",
            "423/423 [==============================] - 2s 4ms/step - loss: 141.9757 - mse: 141.9757 - val_loss: 0.9463 - val_mse: 0.9463\n",
            "Epoch 16/50\n",
            "423/423 [==============================] - 2s 4ms/step - loss: 0.1637 - mse: 0.1637 - val_loss: 0.1419 - val_mse: 0.1419\n",
            "Epoch 17/50\n",
            "423/423 [==============================] - 1s 4ms/step - loss: 0.1363 - mse: 0.1363 - val_loss: 0.1420 - val_mse: 0.1420\n",
            "Epoch 18/50\n",
            "423/423 [==============================] - 2s 4ms/step - loss: 0.1761 - mse: 0.1761 - val_loss: 0.1372 - val_mse: 0.1372\n",
            "Epoch 19/50\n",
            "423/423 [==============================] - 2s 4ms/step - loss: 0.1250 - mse: 0.1250 - val_loss: 0.1360 - val_mse: 0.1360\n",
            "Epoch 20/50\n",
            "423/423 [==============================] - 2s 4ms/step - loss: 0.1306 - mse: 0.1306 - val_loss: 0.1622 - val_mse: 0.1622\n",
            "Epoch 21/50\n",
            "423/423 [==============================] - 2s 4ms/step - loss: 0.1263 - mse: 0.1263 - val_loss: 0.1343 - val_mse: 0.1343\n",
            "Epoch 22/50\n",
            "423/423 [==============================] - 1s 4ms/step - loss: 0.1234 - mse: 0.1234 - val_loss: 0.1338 - val_mse: 0.1338\n",
            "Epoch 23/50\n",
            "423/423 [==============================] - 2s 4ms/step - loss: 0.1272 - mse: 0.1272 - val_loss: 0.1336 - val_mse: 0.1336\n",
            "Epoch 24/50\n",
            "423/423 [==============================] - 2s 4ms/step - loss: 0.1389 - mse: 0.1389 - val_loss: 0.1406 - val_mse: 0.1406\n",
            "Epoch 25/50\n",
            "423/423 [==============================] - 2s 4ms/step - loss: 0.1293 - mse: 0.1293 - val_loss: 0.1450 - val_mse: 0.1450\n",
            "Epoch 26/50\n",
            "423/423 [==============================] - 2s 4ms/step - loss: 0.1305 - mse: 0.1305 - val_loss: 0.1367 - val_mse: 0.1367\n",
            "Epoch 27/50\n",
            "423/423 [==============================] - 1s 3ms/step - loss: 0.1247 - mse: 0.1247 - val_loss: 0.1328 - val_mse: 0.1328\n",
            "Epoch 28/50\n",
            "423/423 [==============================] - 2s 4ms/step - loss: 0.1959 - mse: 0.1959 - val_loss: 0.1325 - val_mse: 0.1325\n",
            "Epoch 29/50\n",
            "423/423 [==============================] - 2s 4ms/step - loss: 0.1225 - mse: 0.1225 - val_loss: 0.1322 - val_mse: 0.1322\n",
            "Epoch 30/50\n",
            "423/423 [==============================] - 2s 4ms/step - loss: 0.1223 - mse: 0.1223 - val_loss: 0.1326 - val_mse: 0.1326\n",
            "Epoch 31/50\n",
            "423/423 [==============================] - 2s 4ms/step - loss: 0.1222 - mse: 0.1222 - val_loss: 0.1325 - val_mse: 0.1325\n",
            "Epoch 32/50\n",
            "423/423 [==============================] - 2s 4ms/step - loss: 0.1227 - mse: 0.1227 - val_loss: 0.1333 - val_mse: 0.1333\n",
            "Epoch 33/50\n",
            "423/423 [==============================] - 2s 4ms/step - loss: 0.1223 - mse: 0.1223 - val_loss: 0.1333 - val_mse: 0.1333\n",
            "Epoch 34/50\n",
            "423/423 [==============================] - 2s 4ms/step - loss: 0.1223 - mse: 0.1223 - val_loss: 0.1332 - val_mse: 0.1332\n",
            "Epoch 35/50\n",
            "423/423 [==============================] - 1s 3ms/step - loss: 0.1222 - mse: 0.1222 - val_loss: 0.1333 - val_mse: 0.1333\n",
            "Epoch 36/50\n",
            "423/423 [==============================] - 1s 3ms/step - loss: 0.1223 - mse: 0.1223 - val_loss: 0.1330 - val_mse: 0.1330\n",
            "Epoch 37/50\n",
            "423/423 [==============================] - 2s 4ms/step - loss: 0.1223 - mse: 0.1223 - val_loss: 0.1334 - val_mse: 0.1334\n",
            "Epoch 38/50\n",
            "423/423 [==============================] - 2s 4ms/step - loss: 0.1223 - mse: 0.1223 - val_loss: 0.1334 - val_mse: 0.1334\n",
            "Epoch 39/50\n",
            "423/423 [==============================] - 2s 4ms/step - loss: 0.1223 - mse: 0.1223 - val_loss: 0.1336 - val_mse: 0.1336\n",
            "Epoch 40/50\n",
            "423/423 [==============================] - 2s 4ms/step - loss: 0.1223 - mse: 0.1223 - val_loss: 0.1332 - val_mse: 0.1332\n",
            "Epoch 41/50\n",
            "423/423 [==============================] - 2s 4ms/step - loss: 0.1224 - mse: 0.1224 - val_loss: 0.1332 - val_mse: 0.1332\n",
            "Epoch 42/50\n",
            "423/423 [==============================] - 2s 4ms/step - loss: 0.1223 - mse: 0.1223 - val_loss: 0.1332 - val_mse: 0.1332\n",
            "Epoch 43/50\n",
            "423/423 [==============================] - 2s 4ms/step - loss: 0.1225 - mse: 0.1225 - val_loss: 0.1332 - val_mse: 0.1332\n",
            "Epoch 44/50\n",
            "423/423 [==============================] - 2s 4ms/step - loss: 0.1224 - mse: 0.1224 - val_loss: 0.1333 - val_mse: 0.1333\n",
            "Epoch 45/50\n",
            "423/423 [==============================] - 2s 4ms/step - loss: 0.1224 - mse: 0.1224 - val_loss: 0.1333 - val_mse: 0.1333\n",
            "Epoch 46/50\n",
            "423/423 [==============================] - 2s 4ms/step - loss: 0.1224 - mse: 0.1224 - val_loss: 0.1333 - val_mse: 0.1333\n",
            "Epoch 47/50\n",
            "423/423 [==============================] - 2s 4ms/step - loss: 0.1224 - mse: 0.1224 - val_loss: 0.1332 - val_mse: 0.1332\n",
            "Epoch 48/50\n",
            "423/423 [==============================] - 2s 4ms/step - loss: 0.1224 - mse: 0.1224 - val_loss: 0.1334 - val_mse: 0.1334\n",
            "Epoch 49/50\n",
            "423/423 [==============================] - 2s 4ms/step - loss: 0.1223 - mse: 0.1223 - val_loss: 0.1344 - val_mse: 0.1344\n",
            "Epoch 50/50\n",
            "423/423 [==============================] - 2s 4ms/step - loss: 0.1223 - mse: 0.1223 - val_loss: 0.1340 - val_mse: 0.1340\n"
          ]
        }
      ]
    },
    {
      "cell_type": "code",
      "source": [
        "y_pred = nn_reg2.predict(x_test)"
      ],
      "metadata": {
        "colab": {
          "base_uri": "https://localhost:8080/",
          "height": 0
        },
        "id": "-8hMpk35v79V",
        "outputId": "f73897b0-cf97-4257-f20b-ca4ed3f26388"
      },
      "execution_count": 88,
      "outputs": [
        {
          "output_type": "stream",
          "name": "stdout",
          "text": [
            "235/235 [==============================] - 0s 2ms/step\n"
          ]
        }
      ]
    },
    {
      "cell_type": "code",
      "source": [
        "mean_squared_error(y_test, y_pred)"
      ],
      "metadata": {
        "colab": {
          "base_uri": "https://localhost:8080/",
          "height": 0
        },
        "id": "b1FeZC7HwAl6",
        "outputId": "dabd3a2a-f6eb-415a-b064-2a851e05297f"
      },
      "execution_count": 89,
      "outputs": [
        {
          "output_type": "execute_result",
          "data": {
            "text/plain": [
              "0.12667554451276633"
            ]
          },
          "metadata": {},
          "execution_count": 89
        }
      ]
    },
    {
      "cell_type": "code",
      "source": [
        "history1.history.keys()"
      ],
      "metadata": {
        "colab": {
          "base_uri": "https://localhost:8080/",
          "height": 0
        },
        "id": "Wbuw5klTwCyH",
        "outputId": "ab76db7a-049a-4945-a6cb-324dace9ceef"
      },
      "execution_count": 90,
      "outputs": [
        {
          "output_type": "execute_result",
          "data": {
            "text/plain": [
              "dict_keys(['loss', 'mse', 'val_loss', 'val_mse'])"
            ]
          },
          "metadata": {},
          "execution_count": 90
        }
      ]
    },
    {
      "cell_type": "code",
      "source": [
        "import matplotlib.pyplot as plt"
      ],
      "metadata": {
        "id": "JX_x8R4fwCqf"
      },
      "execution_count": 91,
      "outputs": []
    },
    {
      "cell_type": "code",
      "source": [
        "fig, ax = plt.subplots(figsize = (8,5))\n",
        "ax.plot(history1.history['loss'], label = \"Training loss\")\n",
        "ax.plot(history1.history['val_loss'], label = \"validation loss\")\n",
        "ax.set_title(\"Loss vs epoch\")\n",
        "ax.set_xlabel(\"Epochs\")\n",
        "ax.grid()\n",
        "plt.show()"
      ],
      "metadata": {
        "colab": {
          "base_uri": "https://localhost:8080/",
          "height": 350
        },
        "id": "5ixiEd9RwG_I",
        "outputId": "92b4c2f9-e441-4647-93af-53c332f84887"
      },
      "execution_count": 92,
      "outputs": [
        {
          "output_type": "display_data",
          "data": {
            "text/plain": [
              "<Figure size 576x360 with 1 Axes>"
            ],
            "image/png": "[encoded data removed]"
          },
          "metadata": {
            "needs_background": "light"
          }
        }
      ]
    },
    {
      "cell_type": "code",
      "source": [
        "fig, ax = plt.subplots(figsize = (8,5))\n",
        "ax.plot(np.log(history1.history['loss']), label = \"Training loss\")\n",
        "ax.plot(np.log(history1.history['val_loss']), label = \"validation loss\")\n",
        "ax.set_title(\"Log Loss vs epoch\")\n",
        "ax.set_xlabel(\"Epochs\")\n",
        "ax.set_ylabel(\"Loss loss\")\n",
        "ax.legend()\n",
        "ax.grid()\n",
        "plt.show()"
      ],
      "metadata": {
        "colab": {
          "base_uri": "https://localhost:8080/",
          "height": 350
        },
        "id": "dCu0l7S1wJq7",
        "outputId": "68142fdf-3acd-41d2-c529-6d42e677c53b"
      },
      "execution_count": 93,
      "outputs": [
        {
          "output_type": "display_data",
          "data": {
            "text/plain": [
              "<Figure size 576x360 with 1 Axes>"
            ],
            "image/png": "[encoded data removed]"
          },
          "metadata": {
            "needs_background": "light"
          }
        }
      ]
    },
    {
      "cell_type": "code",
      "source": [
        "fig, ax = plt.subplots(figsize = (8,5))\n",
        "ax.plot(np.log(history1.history['mse']), label = \"Training error\")\n",
        "ax.plot(np.log(history1.history['val_mse']), label = \"validation error\")\n",
        "ax.set_title(\"Log error vs epoch\")\n",
        "ax.set_xlabel(\"Epochs\")\n",
        "ax.set_ylabel(\"log error\")\n",
        "ax.legend()\n",
        "ax.grid()\n",
        "plt.show()"
      ],
      "metadata": {
        "colab": {
          "base_uri": "https://localhost:8080/",
          "height": 350
        },
        "id": "DjAiIHvjwL61",
        "outputId": "125553e7-265b-494f-c755-bfad2d803240"
      },
      "execution_count": 94,
      "outputs": [
        {
          "output_type": "display_data",
          "data": {
            "text/plain": [
              "<Figure size 576x360 with 1 Axes>"
            ],
            "image/png": "[encoded data removed]"
          },
          "metadata": {
            "needs_background": "light"
          }
        }
      ]
    },
    {
      "cell_type": "code",
      "source": [
        "from tensorflow.keras.callbacks import EarlyStopping "
      ],
      "metadata": {
        "id": "cBJ5Kd5dwPFd"
      },
      "execution_count": 95,
      "outputs": []
    },
    {
      "cell_type": "code",
      "source": [
        "early_stop=EarlyStopping(monitor='val_mse',min_delta=5,patience=20,verbose=1,mode='auto')"
      ],
      "metadata": {
        "id": "JWZmiIDQwRRf"
      },
      "execution_count": 96,
      "outputs": []
    },
    {
      "cell_type": "code",
      "source": [
        "nn_reg3 = Sequential()\n",
        "nn_reg3.add(Dense(128, activation = \"relu\", input_shape = (25,)))\n",
        "nn_reg3.add(Dense(128, activation = \"relu\"))\n",
        "nn_reg3.add(Dense(128, activation = \"relu\"))\n",
        "nn_reg3.add(Dense(64, activation = \"relu\"))\n",
        "nn_reg3.add(Dense(64, activation = \"relu\"))\n",
        "nn_reg3.add(Dense(64, activation = \"relu\"))\n",
        "nn_reg3.add(Dense(1, activation = None))\n",
        "nn_reg3.summary()"
      ],
      "metadata": {
        "colab": {
          "base_uri": "https://localhost:8080/",
          "height": 0
        },
        "id": "4RvqTYBGwTSs",
        "outputId": "78eec0c3-4434-462e-a810-b19c99b33d29"
      },
      "execution_count": 97,
      "outputs": [
        {
          "output_type": "stream",
          "name": "stdout",
          "text": [
            "Model: \"sequential_2\"\n",
            "_________________________________________________________________\n",
            " Layer (type)                Output Shape              Param #   \n",
            "=================================================================\n",
            " dense_11 (Dense)            (None, 128)               3328      \n",
            "                                                                 \n",
            " dense_12 (Dense)            (None, 128)               16512     \n",
            "                                                                 \n",
            " dense_13 (Dense)            (None, 128)               16512     \n",
            "                                                                 \n",
            " dense_14 (Dense)            (None, 64)                8256      \n",
            "                                                                 \n",
            " dense_15 (Dense)            (None, 64)                4160      \n",
            "                                                                 \n",
            " dense_16 (Dense)            (None, 64)                4160      \n",
            "                                                                 \n",
            " dense_17 (Dense)            (None, 1)                 65        \n",
            "                                                                 \n",
            "=================================================================\n",
            "Total params: 52,993\n",
            "Trainable params: 52,993\n",
            "Non-trainable params: 0\n",
            "_________________________________________________________________\n"
          ]
        }
      ]
    },
    {
      "cell_type": "code",
      "source": [
        "nn_reg3.compile(optimizer=\"adam\", loss = \"mean_squared_error\",metrics = [\"mse\"])"
      ],
      "metadata": {
        "id": "EFzUNLpzwXq6"
      },
      "execution_count": 98,
      "outputs": []
    },
    {
      "cell_type": "code",
      "source": [
        "history3=nn_reg3.fit(x_train,y_train,epochs=200,batch_size=64,validation_split=0.1,callbacks=[early_stop])"
      ],
      "metadata": {
        "colab": {
          "base_uri": "https://localhost:8080/",
          "height": 0
        },
        "id": "87U0t6l7wZjF",
        "outputId": "e8866604-1166-4c1d-83a3-5183723e49f9"
      },
      "execution_count": 99,
      "outputs": [
        {
          "output_type": "stream",
          "name": "stdout",
          "text": [
            "Epoch 1/200\n",
            "423/423 [==============================] - 3s 5ms/step - loss: 32909.5039 - mse: 32909.5039 - val_loss: 84949.9141 - val_mse: 84949.9141\n",
            "Epoch 2/200\n",
            "423/423 [==============================] - 2s 5ms/step - loss: 1740.2319 - mse: 1740.2319 - val_loss: 751.9728 - val_mse: 751.9728\n",
            "Epoch 3/200\n",
            "423/423 [==============================] - 2s 5ms/step - loss: 1327.7448 - mse: 1327.7448 - val_loss: 53.0228 - val_mse: 53.0228\n",
            "Epoch 4/200\n",
            "423/423 [==============================] - 2s 4ms/step - loss: 1093.8685 - mse: 1093.8685 - val_loss: 28.0768 - val_mse: 28.0768\n",
            "Epoch 5/200\n",
            "423/423 [==============================] - 2s 5ms/step - loss: 334.8243 - mse: 334.8243 - val_loss: 16.2943 - val_mse: 16.2943\n",
            "Epoch 6/200\n",
            "423/423 [==============================] - 2s 5ms/step - loss: 50.9016 - mse: 50.9016 - val_loss: 301.3561 - val_mse: 301.3561\n",
            "Epoch 7/200\n",
            "423/423 [==============================] - 2s 5ms/step - loss: 86.4743 - mse: 86.4743 - val_loss: 0.6879 - val_mse: 0.6879\n",
            "Epoch 8/200\n",
            "423/423 [==============================] - 2s 5ms/step - loss: 1.8485 - mse: 1.8485 - val_loss: 0.3429 - val_mse: 0.3429\n",
            "Epoch 9/200\n",
            "423/423 [==============================] - 2s 4ms/step - loss: 0.3506 - mse: 0.3506 - val_loss: 0.2119 - val_mse: 0.2119\n",
            "Epoch 10/200\n",
            "423/423 [==============================] - 2s 4ms/step - loss: 0.3323 - mse: 0.3323 - val_loss: 0.1872 - val_mse: 0.1872\n",
            "Epoch 11/200\n",
            "423/423 [==============================] - 2s 5ms/step - loss: 0.2014 - mse: 0.2014 - val_loss: 0.1525 - val_mse: 0.1525\n",
            "Epoch 12/200\n",
            "423/423 [==============================] - 2s 5ms/step - loss: 1.7266 - mse: 1.7266 - val_loss: 0.1665 - val_mse: 0.1665\n",
            "Epoch 13/200\n",
            "423/423 [==============================] - 2s 4ms/step - loss: 5.1097 - mse: 5.1097 - val_loss: 0.1810 - val_mse: 0.1810\n",
            "Epoch 14/200\n",
            "423/423 [==============================] - 2s 4ms/step - loss: 0.1556 - mse: 0.1556 - val_loss: 0.1414 - val_mse: 0.1414\n",
            "Epoch 15/200\n",
            "423/423 [==============================] - 2s 4ms/step - loss: 0.5780 - mse: 0.5780 - val_loss: 7.1684 - val_mse: 7.1684\n",
            "Epoch 16/200\n",
            "423/423 [==============================] - 2s 4ms/step - loss: 0.6316 - mse: 0.6316 - val_loss: 0.2645 - val_mse: 0.2645\n",
            "Epoch 17/200\n",
            "423/423 [==============================] - 2s 4ms/step - loss: 0.5165 - mse: 0.5165 - val_loss: 0.2554 - val_mse: 0.2554\n",
            "Epoch 18/200\n",
            "423/423 [==============================] - 2s 4ms/step - loss: 0.1457 - mse: 0.1457 - val_loss: 0.1321 - val_mse: 0.1321\n",
            "Epoch 19/200\n",
            "423/423 [==============================] - 2s 4ms/step - loss: 0.2279 - mse: 0.2279 - val_loss: 1.2783 - val_mse: 1.2783\n",
            "Epoch 20/200\n",
            "423/423 [==============================] - 2s 4ms/step - loss: 0.2793 - mse: 0.2793 - val_loss: 0.3186 - val_mse: 0.3186\n",
            "Epoch 21/200\n",
            "423/423 [==============================] - 3s 7ms/step - loss: 0.1746 - mse: 0.1746 - val_loss: 0.1197 - val_mse: 0.1197\n",
            "Epoch 22/200\n",
            "423/423 [==============================] - 2s 5ms/step - loss: 0.1121 - mse: 0.1121 - val_loss: 0.1142 - val_mse: 0.1142\n",
            "Epoch 23/200\n",
            "423/423 [==============================] - 2s 5ms/step - loss: 0.1049 - mse: 0.1049 - val_loss: 0.1110 - val_mse: 0.1110\n",
            "Epoch 24/200\n",
            "423/423 [==============================] - 2s 4ms/step - loss: 0.0995 - mse: 0.0995 - val_loss: 0.1066 - val_mse: 0.1066\n",
            "Epoch 25/200\n",
            "423/423 [==============================] - 2s 4ms/step - loss: 0.0938 - mse: 0.0938 - val_loss: 0.0982 - val_mse: 0.0982\n",
            "Epoch 26/200\n",
            "423/423 [==============================] - 2s 5ms/step - loss: 0.0878 - mse: 0.0878 - val_loss: 0.0926 - val_mse: 0.0926\n",
            "Epoch 27/200\n",
            "423/423 [==============================] - 2s 5ms/step - loss: 0.0822 - mse: 0.0822 - val_loss: 0.0917 - val_mse: 0.0917\n",
            "Epoch 27: early stopping\n"
          ]
        }
      ]
    },
    {
      "cell_type": "code",
      "source": [
        "fig, ax = plt.subplots(figsize = (8,5))\n",
        "ax.plot(np.log(history3.history['mse']), label = \"Training error\")\n",
        "ax.plot(np.log(history3.history['val_mse']), label = \"validation error\")\n",
        "ax.set_title(\"Log error vs epoch\")\n",
        "ax.set_xlabel(\"Epochs\")\n",
        "ax.set_ylabel(\"log error\")\n",
        "ax.legend()\n",
        "ax.grid()\n",
        "plt.show()"
      ],
      "metadata": {
        "colab": {
          "base_uri": "https://localhost:8080/",
          "height": 350
        },
        "id": "IoPGNKMEwcE4",
        "outputId": "af6f6df5-87db-4e4f-b27a-de1c8b8c5882"
      },
      "execution_count": 100,
      "outputs": [
        {
          "output_type": "display_data",
          "data": {
            "text/plain": [
              "<Figure size 576x360 with 1 Axes>"
            ],
            "image/png": "[encoded data removed]"
          },
          "metadata": {
            "needs_background": "light"
          }
        }
      ]
    },
    {
      "cell_type": "code",
      "source": [
        "y_pred=nn_reg3.predict(x_test)\n",
        "mean_squared_error(y_test,y_pred)"
      ],
      "metadata": {
        "colab": {
          "base_uri": "https://localhost:8080/",
          "height": 0
        },
        "id": "xzlocYkwweih",
        "outputId": "836c0ed0-c0a0-473f-9d57-0beac0a8ab42"
      },
      "execution_count": 101,
      "outputs": [
        {
          "output_type": "stream",
          "name": "stdout",
          "text": [
            "235/235 [==============================] - 1s 2ms/step\n"
          ]
        },
        {
          "output_type": "execute_result",
          "data": {
            "text/plain": [
              "0.08811135330876038"
            ]
          },
          "metadata": {},
          "execution_count": 101
        }
      ]
    },
    {
      "cell_type": "code",
      "source": [
        "from tensorflow.keras.layers import Dropout"
      ],
      "metadata": {
        "id": "Mo1PgJ0twg2G"
      },
      "execution_count": 102,
      "outputs": []
    },
    {
      "cell_type": "code",
      "source": [
        "nn_reg4 = Sequential()\n",
        "nn_reg4.add(Dense(128, activation = \"relu\", input_shape = (25,)))\n",
        "nn_reg4.add(Dropout(rate=0.2))\n",
        "\n",
        "nn_reg4.add(Dense(128, activation = \"relu\"))\n",
        "nn_reg4.add(Dropout(rate=0.2))\n",
        "\n",
        "nn_reg4.add(Dense(128, activation = \"relu\"))\n",
        "nn_reg4.add(Dropout(rate=0.2))\n",
        "\n",
        "nn_reg4.add(Dense(64, activation = \"relu\"))\n",
        "nn_reg4.add(Dropout(rate=0.2))\n",
        "\n",
        "nn_reg4.add(Dense(64, activation = \"relu\"))\n",
        "nn_reg4.add(Dropout(rate=0.1))\n",
        "\n",
        "nn_reg4.add(Dense(64, activation = \"relu\"))\n",
        "nn_reg4.add(Dropout(rate=0.1))\n",
        "\n",
        "nn_reg4.add(Dense(1, activation = None))\n",
        "nn_reg4.summary()"
      ],
      "metadata": {
        "colab": {
          "base_uri": "https://localhost:8080/",
          "height": 0
        },
        "id": "kI1M4j21wh34",
        "outputId": "25fe83e3-ad28-403d-fb72-2be1e0efb3e0"
      },
      "execution_count": 103,
      "outputs": [
        {
          "output_type": "stream",
          "name": "stdout",
          "text": [
            "Model: \"sequential_3\"\n",
            "_________________________________________________________________\n",
            " Layer (type)                Output Shape              Param #   \n",
            "=================================================================\n",
            " dense_18 (Dense)            (None, 128)               3328      \n",
            "                                                                 \n",
            " dropout (Dropout)           (None, 128)               0         \n",
            "                                                                 \n",
            " dense_19 (Dense)            (None, 128)               16512     \n",
            "                                                                 \n",
            " dropout_1 (Dropout)         (None, 128)               0         \n",
            "                                                                 \n",
            " dense_20 (Dense)            (None, 128)               16512     \n",
            "                                                                 \n",
            " dropout_2 (Dropout)         (None, 128)               0         \n",
            "                                                                 \n",
            " dense_21 (Dense)            (None, 64)                8256      \n",
            "                                                                 \n",
            " dropout_3 (Dropout)         (None, 64)                0         \n",
            "                                                                 \n",
            " dense_22 (Dense)            (None, 64)                4160      \n",
            "                                                                 \n",
            " dropout_4 (Dropout)         (None, 64)                0         \n",
            "                                                                 \n",
            " dense_23 (Dense)            (None, 64)                4160      \n",
            "                                                                 \n",
            " dropout_5 (Dropout)         (None, 64)                0         \n",
            "                                                                 \n",
            " dense_24 (Dense)            (None, 1)                 65        \n",
            "                                                                 \n",
            "=================================================================\n",
            "Total params: 52,993\n",
            "Trainable params: 52,993\n",
            "Non-trainable params: 0\n",
            "_________________________________________________________________\n"
          ]
        }
      ]
    },
    {
      "cell_type": "code",
      "source": [
        "nn_reg4.compile(optimizer=\"adam\", loss = \"mean_squared_error\",metrics = [\"mse\"])"
      ],
      "metadata": {
        "id": "zqCZd0rZwk7f"
      },
      "execution_count": 104,
      "outputs": []
    },
    {
      "cell_type": "code",
      "source": [
        "early_stop=EarlyStopping(monitor='val_mse',min_delta=5,patience=20,verbose=1,mode='auto')"
      ],
      "metadata": {
        "id": "T2wB6gLpwpoV"
      },
      "execution_count": 105,
      "outputs": []
    },
    {
      "cell_type": "code",
      "source": [
        "history4=nn_reg4.fit(x_train,y_train,epochs=200,batch_size=64,validation_split=0.1,callbacks=[early_stop])\n",
        "\n"
      ],
      "metadata": {
        "colab": {
          "base_uri": "https://localhost:8080/",
          "height": 0
        },
        "id": "VKNDfAsywrT0",
        "outputId": "339e8dbd-8943-4b4f-cef7-9fa6c0db2d2c"
      },
      "execution_count": 106,
      "outputs": [
        {
          "output_type": "stream",
          "name": "stdout",
          "text": [
            "Epoch 1/200\n",
            "423/423 [==============================] - 3s 6ms/step - loss: 294347.8438 - mse: 294347.8438 - val_loss: 1437.8948 - val_mse: 1437.8948\n",
            "Epoch 2/200\n",
            "423/423 [==============================] - 2s 5ms/step - loss: 25402.4102 - mse: 25402.4102 - val_loss: 0.1855 - val_mse: 0.1855\n",
            "Epoch 3/200\n",
            "423/423 [==============================] - 2s 5ms/step - loss: 21446.2246 - mse: 21446.2246 - val_loss: 0.1872 - val_mse: 0.1872\n",
            "Epoch 4/200\n",
            "423/423 [==============================] - 2s 6ms/step - loss: 1102.2114 - mse: 1102.2114 - val_loss: 0.1856 - val_mse: 0.1856\n",
            "Epoch 5/200\n",
            "423/423 [==============================] - 2s 5ms/step - loss: 192.2780 - mse: 192.2780 - val_loss: 0.1816 - val_mse: 0.1816\n",
            "Epoch 6/200\n",
            "423/423 [==============================] - 2s 5ms/step - loss: 111.7328 - mse: 111.7328 - val_loss: 0.1787 - val_mse: 0.1787\n",
            "Epoch 7/200\n",
            "423/423 [==============================] - 2s 5ms/step - loss: 83.3705 - mse: 83.3705 - val_loss: 0.1749 - val_mse: 0.1749\n",
            "Epoch 8/200\n",
            "423/423 [==============================] - 2s 5ms/step - loss: 54.8908 - mse: 54.8908 - val_loss: 0.1720 - val_mse: 0.1720\n",
            "Epoch 9/200\n",
            "423/423 [==============================] - 2s 5ms/step - loss: 147.6424 - mse: 147.6424 - val_loss: 0.1689 - val_mse: 0.1689\n",
            "Epoch 10/200\n",
            "423/423 [==============================] - 2s 5ms/step - loss: 34.0098 - mse: 34.0098 - val_loss: 0.1643 - val_mse: 0.1643\n",
            "Epoch 11/200\n",
            "423/423 [==============================] - 2s 5ms/step - loss: 20.1156 - mse: 20.1156 - val_loss: 0.1602 - val_mse: 0.1602\n",
            "Epoch 12/200\n",
            "423/423 [==============================] - 2s 5ms/step - loss: 13.2009 - mse: 13.2009 - val_loss: 0.1576 - val_mse: 0.1576\n",
            "Epoch 13/200\n",
            "423/423 [==============================] - 2s 6ms/step - loss: 20.5882 - mse: 20.5882 - val_loss: 0.1553 - val_mse: 0.1553\n",
            "Epoch 14/200\n",
            "423/423 [==============================] - 2s 5ms/step - loss: 11.6511 - mse: 11.6511 - val_loss: 0.1533 - val_mse: 0.1533\n",
            "Epoch 15/200\n",
            "423/423 [==============================] - 2s 5ms/step - loss: 12.4471 - mse: 12.4471 - val_loss: 0.1511 - val_mse: 0.1511\n",
            "Epoch 16/200\n",
            "423/423 [==============================] - 2s 5ms/step - loss: 1377.4943 - mse: 1377.4943 - val_loss: 0.1473 - val_mse: 0.1473\n",
            "Epoch 17/200\n",
            "423/423 [==============================] - 2s 5ms/step - loss: 39.0224 - mse: 39.0224 - val_loss: 0.1430 - val_mse: 0.1430\n",
            "Epoch 18/200\n",
            "423/423 [==============================] - 2s 6ms/step - loss: 18.8483 - mse: 18.8483 - val_loss: 0.1393 - val_mse: 0.1393\n",
            "Epoch 19/200\n",
            "423/423 [==============================] - 2s 5ms/step - loss: 12.2711 - mse: 12.2711 - val_loss: 0.1355 - val_mse: 0.1355\n",
            "Epoch 20/200\n",
            "423/423 [==============================] - 2s 5ms/step - loss: 2.5436 - mse: 2.5436 - val_loss: 0.1315 - val_mse: 0.1315\n",
            "Epoch 21/200\n",
            "423/423 [==============================] - 2s 5ms/step - loss: 11.7740 - mse: 11.7740 - val_loss: 0.1283 - val_mse: 0.1283\n",
            "Epoch 22/200\n",
            "423/423 [==============================] - 2s 5ms/step - loss: 2.9720 - mse: 2.9720 - val_loss: 0.1276 - val_mse: 0.1276\n",
            "Epoch 22: early stopping\n"
          ]
        }
      ]
    },
    {
      "cell_type": "code",
      "source": [
        "nn_reg5 = Sequential()\n",
        "nn_reg5.add(Dense(128, activation = \"relu\", input_shape = (25,)))\n",
        "nn_reg5.add(Dropout(rate=0.1))\n",
        "\n",
        "nn_reg5.add(Dense(128, activation = \"relu\"))\n",
        "nn_reg5.add(Dropout(rate=0.1))\n",
        "\n",
        "nn_reg5.add(Dense(128, activation = \"relu\"))\n",
        "nn_reg5.add(Dropout(rate=0.1))\n",
        "\n",
        "nn_reg5.add(Dense(64, activation = \"relu\"))\n",
        "nn_reg5.add(Dropout(rate=0.1))\n",
        "\n",
        "nn_reg5.add(Dense(64, activation = \"relu\"))\n",
        "nn_reg5.add(Dropout(rate=0.1))\n",
        "\n",
        "nn_reg5.add(Dense(64, activation = \"relu\"))\n",
        "nn_reg5.add(Dropout(rate=0.1))\n",
        "\n",
        "nn_reg5.add(Dense(1, activation = None))\n",
        "nn_reg5.summary()"
      ],
      "metadata": {
        "colab": {
          "base_uri": "https://localhost:8080/",
          "height": 0
        },
        "id": "Uu602qiPwxnB",
        "outputId": "e98451db-e80b-4c34-c6f7-a25c7803b5c2"
      },
      "execution_count": 107,
      "outputs": [
        {
          "output_type": "stream",
          "name": "stdout",
          "text": [
            "Model: \"sequential_4\"\n",
            "_________________________________________________________________\n",
            " Layer (type)                Output Shape              Param #   \n",
            "=================================================================\n",
            " dense_25 (Dense)            (None, 128)               3328      \n",
            "                                                                 \n",
            " dropout_6 (Dropout)         (None, 128)               0         \n",
            "                                                                 \n",
            " dense_26 (Dense)            (None, 128)               16512     \n",
            "                                                                 \n",
            " dropout_7 (Dropout)         (None, 128)               0         \n",
            "                                                                 \n",
            " dense_27 (Dense)            (None, 128)               16512     \n",
            "                                                                 \n",
            " dropout_8 (Dropout)         (None, 128)               0         \n",
            "                                                                 \n",
            " dense_28 (Dense)            (None, 64)                8256      \n",
            "                                                                 \n",
            " dropout_9 (Dropout)         (None, 64)                0         \n",
            "                                                                 \n",
            " dense_29 (Dense)            (None, 64)                4160      \n",
            "                                                                 \n",
            " dropout_10 (Dropout)        (None, 64)                0         \n",
            "                                                                 \n",
            " dense_30 (Dense)            (None, 64)                4160      \n",
            "                                                                 \n",
            " dropout_11 (Dropout)        (None, 64)                0         \n",
            "                                                                 \n",
            " dense_31 (Dense)            (None, 1)                 65        \n",
            "                                                                 \n",
            "=================================================================\n",
            "Total params: 52,993\n",
            "Trainable params: 52,993\n",
            "Non-trainable params: 0\n",
            "_________________________________________________________________\n"
          ]
        }
      ]
    },
    {
      "cell_type": "code",
      "source": [
        "nn_reg5.compile(optimizer=\"adam\", loss = \"mean_squared_error\",metrics = [\"mse\"])"
      ],
      "metadata": {
        "id": "9p0_6gQNw0bs"
      },
      "execution_count": 108,
      "outputs": []
    },
    {
      "cell_type": "code",
      "source": [
        "early_stop=EarlyStopping(monitor='val_mse',min_delta=5,patience=20,verbose=1,mode='auto')"
      ],
      "metadata": {
        "id": "p94DQ1Oaw13r"
      },
      "execution_count": 109,
      "outputs": []
    },
    {
      "cell_type": "code",
      "source": [
        "history5=nn_reg5.fit(x_train,y_train,epochs=75,batch_size=64,validation_split=0.1,callbacks=[early_stop])"
      ],
      "metadata": {
        "colab": {
          "base_uri": "https://localhost:8080/",
          "height": 0
        },
        "id": "8bgrrP_nw3c2",
        "outputId": "f7c679ad-adf4-447a-fb88-892966934af5"
      },
      "execution_count": 110,
      "outputs": [
        {
          "output_type": "stream",
          "name": "stdout",
          "text": [
            "Epoch 1/75\n",
            "423/423 [==============================] - 3s 6ms/step - loss: 45885.4766 - mse: 45885.4766 - val_loss: 0.1695 - val_mse: 0.1695\n",
            "Epoch 2/75\n",
            "423/423 [==============================] - 2s 6ms/step - loss: 1033.4916 - mse: 1033.4916 - val_loss: 0.1553 - val_mse: 0.1553\n",
            "Epoch 3/75\n",
            "423/423 [==============================] - 2s 6ms/step - loss: 131.7369 - mse: 131.7369 - val_loss: 0.1560 - val_mse: 0.1560\n",
            "Epoch 4/75\n",
            "423/423 [==============================] - 2s 5ms/step - loss: 55.5328 - mse: 55.5328 - val_loss: 0.1563 - val_mse: 0.1563\n",
            "Epoch 5/75\n",
            "423/423 [==============================] - 2s 6ms/step - loss: 15.9855 - mse: 15.9855 - val_loss: 0.1550 - val_mse: 0.1550\n",
            "Epoch 6/75\n",
            "423/423 [==============================] - 2s 5ms/step - loss: 16.6281 - mse: 16.6281 - val_loss: 0.1533 - val_mse: 0.1533\n",
            "Epoch 7/75\n",
            "423/423 [==============================] - 2s 5ms/step - loss: 9.4849 - mse: 9.4849 - val_loss: 0.1516 - val_mse: 0.1516\n",
            "Epoch 8/75\n",
            "423/423 [==============================] - 2s 5ms/step - loss: 6.1990 - mse: 6.1990 - val_loss: 0.1496 - val_mse: 0.1496\n",
            "Epoch 9/75\n",
            "423/423 [==============================] - 2s 6ms/step - loss: 4.2169 - mse: 4.2169 - val_loss: 0.1472 - val_mse: 0.1472\n",
            "Epoch 10/75\n",
            "423/423 [==============================] - 2s 5ms/step - loss: 6.3030 - mse: 6.3030 - val_loss: 0.1448 - val_mse: 0.1448\n",
            "Epoch 11/75\n",
            "423/423 [==============================] - 2s 5ms/step - loss: 2.0330 - mse: 2.0330 - val_loss: 0.1419 - val_mse: 0.1419\n",
            "Epoch 12/75\n",
            "423/423 [==============================] - 2s 5ms/step - loss: 1.8099 - mse: 1.8099 - val_loss: 0.1392 - val_mse: 0.1392\n",
            "Epoch 13/75\n",
            "423/423 [==============================] - 2s 5ms/step - loss: 3.5410 - mse: 3.5410 - val_loss: 0.1362 - val_mse: 0.1362\n",
            "Epoch 14/75\n",
            "423/423 [==============================] - 2s 5ms/step - loss: 4.5829 - mse: 4.5829 - val_loss: 0.1331 - val_mse: 0.1331\n",
            "Epoch 15/75\n",
            "423/423 [==============================] - 2s 5ms/step - loss: 1.0138 - mse: 1.0138 - val_loss: 0.1314 - val_mse: 0.1314\n",
            "Epoch 16/75\n",
            "423/423 [==============================] - 2s 5ms/step - loss: 1.1830 - mse: 1.1830 - val_loss: 0.1300 - val_mse: 0.1300\n",
            "Epoch 17/75\n",
            "423/423 [==============================] - 2s 5ms/step - loss: 0.7403 - mse: 0.7403 - val_loss: 0.1289 - val_mse: 0.1289\n",
            "Epoch 18/75\n",
            "423/423 [==============================] - 2s 5ms/step - loss: 0.2902 - mse: 0.2902 - val_loss: 0.1282 - val_mse: 0.1282\n",
            "Epoch 19/75\n",
            "423/423 [==============================] - 2s 5ms/step - loss: 0.2602 - mse: 0.2602 - val_loss: 0.1278 - val_mse: 0.1278\n",
            "Epoch 20/75\n",
            "423/423 [==============================] - 2s 5ms/step - loss: 0.4497 - mse: 0.4497 - val_loss: 0.1275 - val_mse: 0.1275\n",
            "Epoch 21/75\n",
            "423/423 [==============================] - 2s 6ms/step - loss: 0.3026 - mse: 0.3026 - val_loss: 0.1275 - val_mse: 0.1275\n",
            "Epoch 21: early stopping\n"
          ]
        }
      ]
    }
  ]
}