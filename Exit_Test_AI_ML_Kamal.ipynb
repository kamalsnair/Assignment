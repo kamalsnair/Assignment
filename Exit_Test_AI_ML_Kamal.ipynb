{
  "nbformat": 4,
  "nbformat_minor": 0,
  "metadata": {
    "colab": {
      "provenance": [],
      "authorship_tag": "ABX9TyOO1GvXzgvG8id3ZBgSXpmf",
      "include_colab_link": true
    },
    "kernelspec": {
      "name": "python3",
      "display_name": "Python 3"
    },
    "language_info": {
      "name": "python"
    }
  },
  "cells": [
    {
      "cell_type": "markdown",
      "metadata": {
        "id": "view-in-github",
        "colab_type": "text"
      },
      "source": [
        "<a href=\"https://colab.research.google.com/github/kamalsnair/Assignment/blob/main/Exit_Test_AI_ML_Kamal.ipynb\" target=\"_parent\"><img src=\"https://colab.research.google.com/assets/colab-badge.svg\" alt=\"Open In Colab\"/></a>"
      ]
    },
    {
      "cell_type": "markdown",
      "source": [
        "##Problem Statement\n",
        "The 7 hills group of hospitals wants to bring in automation using artificial intelligence\n",
        "on X-rays in covid time. Pneumonia Detection is a binary classification problem\n",
        "where the goal is to classify chest X-ray images as either having pneumonia or not.\n",
        "The dataset for the competition contains over 26,000 chest X-ray images labeled as\n",
        "normal or pneumonia.\n",
        "you need to create a machine learning model that can accurately classify the chest Xray images as normal or pneumonia. The evaluation metric for the competition is the\n",
        "average precision score, which is a measure of how well the model can identify\n",
        "positive cases (pneumonia) while minimizing false positives (normal cases classified\n",
        "as pneumonia).\n",
        "Several deep learning models, such as convolutional neural networks (CNNs), can be\n",
        "use to solve this problem. To get started, you can explore the dataset, pre-process\n",
        "the images, and try building and training different models. "
      ],
      "metadata": {
        "id": "ybosAGoXm2EK"
      }
    },
    {
      "cell_type": "markdown",
      "source": [
        "Importing Required Libraries"
      ],
      "metadata": {
        "id": "dOnm13hrqL5V"
      }
    },
    {
      "cell_type": "code",
      "execution_count": 3,
      "metadata": {
        "id": "mISrMI_djtSy"
      },
      "outputs": [],
      "source": [
        "import numpy as np\n",
        "import pandas as pd\n",
        "import matplotlib.pyplot as plt\n",
        "import matplotlib.pyplot as plt\n",
        "import seaborn as sns\n",
        "import keras\n",
        "from keras.models import Sequential\n",
        "from keras.layers import Dense, Conv2D , MaxPool2D , Flatten\n",
        "from sklearn.model_selection import train_test_split\n",
        "from sklearn.metrics import classification_report,confusion_matrix\n",
        "from keras.callbacks import ReduceLROnPlateau\n",
        "import cv2\n",
        "import os"
      ]
    },
    {
      "cell_type": "markdown",
      "source": [
        "Specifing the Data Path in Google Drive"
      ],
      "metadata": {
        "id": "sFXcmg6DqZ87"
      }
    },
    {
      "cell_type": "code",
      "source": [
        "from google.colab import drive\n",
        "drive.mount('/content/drive')"
      ],
      "metadata": {
        "colab": {
          "base_uri": "https://localhost:8080/"
        },
        "id": "NaEmW45Lqa6b",
        "outputId": "e877e5f9-cfe4-4f5a-8add-f2ef0a4bab11"
      },
      "execution_count": 2,
      "outputs": [
        {
          "output_type": "stream",
          "name": "stdout",
          "text": [
            "Mounted at /content/drive\n"
          ]
        }
      ]
    },
    {
      "cell_type": "code",
      "source": [],
      "metadata": {
        "id": "bxTSMFO2qgqJ"
      },
      "execution_count": null,
      "outputs": []
    }
  ]
}