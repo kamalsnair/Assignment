{
  "nbformat": 4,
  "nbformat_minor": 0,
  "metadata": {
    "colab": {
      "provenance": [],
      "authorship_tag": "ABX9TyOqoau3VqEAWUyawOKEqCpe",
      "include_colab_link": true
    },
    "kernelspec": {
      "name": "python3",
      "display_name": "Python 3"
    },
    "language_info": {
      "name": "python"
    }
  },
  "cells": [
    {
      "cell_type": "markdown",
      "metadata": {
        "id": "view-in-github",
        "colab_type": "text"
      },
      "source": [
        "<a href=\"https://colab.research.google.com/github/kamalsnair/Assignment/blob/main/BBC_news30_1_2023.ipynb\" target=\"_parent\"><img src=\"https://colab.research.google.com/assets/colab-badge.svg\" alt=\"Open In Colab\"/></a>"
      ]
    },
    {
      "cell_type": "code",
      "execution_count": 1,
      "metadata": {
        "id": "9tc3yjLXrEMd"
      },
      "outputs": [],
      "source": [
        "from gensim.models import Word2Vec as wtv\n",
        "from nltk import word_tokenize"
      ]
    },
    {
      "cell_type": "code",
      "source": [
        "s1 = \"Ariana Grande is a singer\"\n",
        "s2 = \"She has been a singer for many years\"\n",
        "s3 = \"Ariana is a great singer\""
      ],
      "metadata": {
        "id": "VtcoJ56uztHZ"
      },
      "execution_count": 2,
      "outputs": []
    },
    {
      "cell_type": "code",
      "source": [
        "import nltk\n",
        "nltk.download('punkt')"
      ],
      "metadata": {
        "colab": {
          "base_uri": "https://localhost:8080/"
        },
        "id": "aHBg1Wrr0IWt",
        "outputId": "69e17a9b-49a1-4a9a-a5a7-0c275b2ae302"
      },
      "execution_count": 4,
      "outputs": [
        {
          "output_type": "stream",
          "name": "stderr",
          "text": [
            "[nltk_data] Downloading package punkt to /root/nltk_data...\n",
            "[nltk_data]   Unzipping tokenizers/punkt.zip.\n"
          ]
        },
        {
          "output_type": "execute_result",
          "data": {
            "text/plain": [
              "True"
            ]
          },
          "metadata": {},
          "execution_count": 4
        }
      ]
    },
    {
      "cell_type": "code",
      "source": [
        "sentences = [word_tokenize(s1), word_tokenize(s2), word_tokenize(s3)]"
      ],
      "metadata": {
        "id": "_QWxaST-z0k5"
      },
      "execution_count": 5,
      "outputs": []
    },
    {
      "cell_type": "code",
      "source": [
        "sentences"
      ],
      "metadata": {
        "colab": {
          "base_uri": "https://localhost:8080/"
        },
        "id": "0iAYvNFz0RXa",
        "outputId": "65dc8c2c-8bab-4525-e23f-3cae552849e5"
      },
      "execution_count": 6,
      "outputs": [
        {
          "output_type": "execute_result",
          "data": {
            "text/plain": [
              "[['Ariana', 'Grande', 'is', 'a', 'singer'],\n",
              " ['She', 'has', 'been', 'a', 'singer', 'for', 'many', 'years'],\n",
              " ['Ariana', 'is', 'a', 'great', 'singer']]"
            ]
          },
          "metadata": {},
          "execution_count": 6
        }
      ]
    },
    {
      "cell_type": "code",
      "source": [
        "model = wtv(sentences, min_count = 1)"
      ],
      "metadata": {
        "colab": {
          "base_uri": "https://localhost:8080/"
        },
        "id": "K-HNNjKr0jo_",
        "outputId": "741748e9-0070-48f8-e02a-a556a2cc77d5"
      },
      "execution_count": 7,
      "outputs": [
        {
          "output_type": "stream",
          "name": "stderr",
          "text": [
            "WARNING:gensim.models.base_any2vec:under 10 jobs per worker: consider setting a smaller `batch_words' for smoother alpha decay\n"
          ]
        }
      ]
    },
    {
      "cell_type": "code",
      "source": [
        "print(model)"
      ],
      "metadata": {
        "colab": {
          "base_uri": "https://localhost:8080/"
        },
        "id": "87g9lS280lWe",
        "outputId": "ac5334c3-d0eb-4fbe-ddab-3d5ccd85c318"
      },
      "execution_count": 8,
      "outputs": [
        {
          "output_type": "stream",
          "name": "stdout",
          "text": [
            "Word2Vec(vocab=12, size=100, alpha=0.025)\n"
          ]
        }
      ]
    },
    {
      "cell_type": "code",
      "source": [
        "list(model.wv.vocab)"
      ],
      "metadata": {
        "colab": {
          "base_uri": "https://localhost:8080/"
        },
        "id": "U9FTxz1O0v6F",
        "outputId": "5f300b94-a961-4f11-ce80-e4bb94397e6c"
      },
      "execution_count": 10,
      "outputs": [
        {
          "output_type": "execute_result",
          "data": {
            "text/plain": [
              "['Ariana',\n",
              " 'Grande',\n",
              " 'is',\n",
              " 'a',\n",
              " 'singer',\n",
              " 'She',\n",
              " 'has',\n",
              " 'been',\n",
              " 'for',\n",
              " 'many',\n",
              " 'years',\n",
              " 'great']"
            ]
          },
          "metadata": {},
          "execution_count": 10
        }
      ]
    },
    {
      "cell_type": "code",
      "source": [
        "model['singer']"
      ],
      "metadata": {
        "colab": {
          "base_uri": "https://localhost:8080/"
        },
        "id": "invv-sTh011u",
        "outputId": "31199aca-a9a6-413c-e911-74bde85bd202"
      },
      "execution_count": 11,
      "outputs": [
        {
          "output_type": "stream",
          "name": "stderr",
          "text": [
            "<ipython-input-11-000d4266bd6e>:1: DeprecationWarning: Call to deprecated `__getitem__` (Method will be removed in 4.0.0, use self.wv.__getitem__() instead).\n",
            "  model['singer']\n"
          ]
        },
        {
          "output_type": "execute_result",
          "data": {
            "text/plain": [
              "array([ 4.5334022e-03, -1.4355241e-03, -4.8764213e-03,  1.6537181e-03,\n",
              "       -3.9656060e-03,  2.5020319e-03, -2.6040355e-04, -4.7529675e-03,\n",
              "       -1.2312580e-03,  4.7079558e-04, -1.9634101e-03, -1.7094350e-03,\n",
              "       -3.1692553e-03, -1.4430340e-03, -4.6931291e-03,  1.8641802e-04,\n",
              "        9.1895950e-04, -8.0039422e-04,  2.8918050e-03,  4.4109570e-03,\n",
              "       -4.3446412e-03,  2.1561596e-03,  2.5591212e-03,  5.3931468e-05,\n",
              "       -4.9295239e-03,  2.4197907e-03, -1.9258547e-03, -2.4379198e-03,\n",
              "        4.9490267e-03,  2.3707594e-03,  1.1399887e-03, -4.6680155e-03,\n",
              "        1.0649223e-03, -2.2804625e-05, -2.7471399e-03,  2.7381361e-03,\n",
              "       -1.1174434e-03,  3.7848540e-03, -1.3078075e-03, -4.7744364e-03,\n",
              "        4.1657356e-03,  3.9007023e-03,  1.9785406e-03,  1.7271022e-03,\n",
              "        1.7562379e-03,  3.7055090e-04, -3.3971772e-03,  4.7114571e-03,\n",
              "       -4.3372656e-03, -2.9007450e-03,  3.5668905e-03, -1.7404249e-04,\n",
              "       -1.9428639e-03,  3.8982299e-04,  1.9994471e-03,  1.8809957e-03,\n",
              "       -4.5207292e-03,  4.4082222e-03, -4.4170143e-03,  3.8995447e-03,\n",
              "        3.5653792e-03,  2.3049096e-04,  2.4857806e-04,  1.0858130e-03,\n",
              "       -3.7680517e-03, -1.3412735e-03, -3.9355410e-03,  4.6940167e-03,\n",
              "       -2.7782733e-03, -2.1256586e-03,  2.5124778e-03, -4.8292726e-03,\n",
              "        6.3394831e-04, -4.6473285e-03,  2.4370507e-03,  1.9866074e-03,\n",
              "       -4.0247725e-04,  4.1785822e-03, -1.5895959e-03, -2.1753751e-03,\n",
              "        2.7859965e-03, -5.3225347e-04,  4.4821375e-03, -1.3079998e-03,\n",
              "        2.0647404e-04,  9.8543509e-04,  1.2727610e-04, -4.1921230e-05,\n",
              "       -3.3170078e-03, -4.7957851e-03, -4.7979173e-03,  2.8627603e-03,\n",
              "       -3.6255410e-04, -3.7718953e-03, -3.2271992e-03,  2.3989423e-05,\n",
              "        4.8496779e-03,  3.0210325e-03, -2.9149493e-03,  4.2163734e-03],\n",
              "      dtype=float32)"
            ]
          },
          "metadata": {},
          "execution_count": 11
        }
      ]
    },
    {
      "cell_type": "code",
      "source": [
        "len(model['singer'])"
      ],
      "metadata": {
        "colab": {
          "base_uri": "https://localhost:8080/"
        },
        "id": "Ir5PFQeo1cwH",
        "outputId": "6d60aa0f-c05d-461d-eb75-f3d643c1b2fb"
      },
      "execution_count": 12,
      "outputs": [
        {
          "output_type": "stream",
          "name": "stderr",
          "text": [
            "<ipython-input-12-f38a95e30dfa>:1: DeprecationWarning: Call to deprecated `__getitem__` (Method will be removed in 4.0.0, use self.wv.__getitem__() instead).\n",
            "  len(model['singer'])\n"
          ]
        },
        {
          "output_type": "execute_result",
          "data": {
            "text/plain": [
              "100"
            ]
          },
          "metadata": {},
          "execution_count": 12
        }
      ]
    },
    {
      "cell_type": "code",
      "source": [
        "import pandas as pd"
      ],
      "metadata": {
        "id": "7aQLEX_21j9N"
      },
      "execution_count": 13,
      "outputs": []
    },
    {
      "cell_type": "code",
      "source": [
        "data=pd.read_csv('/content/BBC News.csv')"
      ],
      "metadata": {
        "id": "wyx8MpH01_Xt"
      },
      "execution_count": 14,
      "outputs": []
    },
    {
      "cell_type": "code",
      "source": [
        "data['Category'].unique()"
      ],
      "metadata": {
        "colab": {
          "base_uri": "https://localhost:8080/"
        },
        "id": "QyWK5uCh2Sgp",
        "outputId": "1d5ccb6a-26fc-44ca-cbc0-c885f4f05c50"
      },
      "execution_count": 15,
      "outputs": [
        {
          "output_type": "execute_result",
          "data": {
            "text/plain": [
              "array(['business', 'tech', 'politics', 'sport', 'entertainment'],\n",
              "      dtype=object)"
            ]
          },
          "metadata": {},
          "execution_count": 15
        }
      ]
    },
    {
      "cell_type": "code",
      "source": [
        "data['Text'][1]"
      ],
      "metadata": {
        "colab": {
          "base_uri": "https://localhost:8080/",
          "height": 123
        },
        "id": "3u4b8IG42jvD",
        "outputId": "8eb76796-fac1-45fb-feed-bc914c5ecc6f"
      },
      "execution_count": 16,
      "outputs": [
        {
          "output_type": "execute_result",
          "data": {
            "text/plain": [
              "'german business confidence slides german business confidence fell in february knocking hopes of a speedy recovery in europe s largest economy.  munich-based research institute ifo said that its confidence index fell to 95.5 in february from 97.5 in january  its first decline in three months. the study found that the outlook in both the manufacturing and retail sectors had worsened. observers had been hoping that a more confident business sector would signal that economic activity was picking up.   we re surprised that the ifo index has taken such a knock   said dz bank economist bernd weidensteiner.  the main reason is probably that the domestic economy is still weak  particularly in the retail trade.  economy and labour minister wolfgang clement called the dip in february s ifo confidence figure  a very mild decline . he said that despite the retreat  the index remained at a relatively high level and that he expected  a modest economic upswing  to continue.  germany s economy grew 1.6% last year after shrinking in 2003. however  the economy contracted by 0.2% during the last three months of 2004  mainly due to the reluctance of consumers to spend. latest indications are that growth is still proving elusive and ifo president hans-werner sinn said any improvement in german domestic demand was sluggish. exports had kept things going during the first half of 2004  but demand for exports was then hit as the value of the euro hit record levels making german products less competitive overseas. on top of that  the unemployment rate has been stuck at close to 10% and manufacturing firms  including daimlerchrysler  siemens and volkswagen  have been negotiating with unions over cost cutting measures. analysts said that the ifo figures and germany s continuing problems may delay an interest rate rise by the european central bank. eurozone interest rates are at 2%  but comments from senior officials have recently focused on the threat of inflation  prompting fears that interest rates may rise.'"
            ],
            "application/vnd.google.colaboratory.intrinsic+json": {
              "type": "string"
            }
          },
          "metadata": {},
          "execution_count": 16
        }
      ]
    },
    {
      "cell_type": "code",
      "source": [
        "data['Text'][500]"
      ],
      "metadata": {
        "colab": {
          "base_uri": "https://localhost:8080/",
          "height": 123
        },
        "id": "v0_tBi6o21sj",
        "outputId": "4a0e4d03-33da-458c-efc6-39bf416257af"
      },
      "execution_count": 17,
      "outputs": [
        {
          "output_type": "execute_result",
          "data": {
            "text/plain": [
              "'gm in crunch talks on fiat future fiat will meet car giant general motors (gm) on tuesday in an attempt to reach agreement over the future of the italian firm s loss-making auto group.  fiat claims that gm is legally obliged to buy the 90% of the car unit it does not already own; gm says the contract  signed in 2000  is no longer valid. press reports have speculated that fiat may be willing to accept a cash payment in return for dropping its claim. both companies want to cut costs as the car industry adjusts to waning demand.  the meeting between fiat boss sergio marchionne and gm s rick wagoner is due to take place at 1330 gmt in zurich  according to the reuters news agency.  mr marchionne is confident of his firm s legal position  saying in an interview with the financial times that gm s argument  has no legs . the agreement in question dates back to gm s decision to buy 20% of fiat s auto division in 2000. at the time  it gave the italian firm the right  via a  put option   to sell the remaining stake to gm. in recent weeks  fiat has reiterated its claims that this  put  is still valid and legally binding. however  gm argues that a fiat share sale made last year  which cut gm s holding to 10%  together with asset sales made by fiat have terminated the agreement.  selling the fiat s car-making unit may not prove so simple  analysts say  especially as it is a company that is so closely linked to italy s industrial heritage. political and public pressure may well push the two firms to reach a compromise.  we are not expecting fiat to exercise its put of the auto business against an unwilling gm at this point   brokerage merrill lynch said in a note to investors  adding that any legal battle would be protracted and damaging to the business.  as far as we are aware  the agnelli family  which indirectly controls at least 30% of fiat  has not given a firm public indication that it wants to sell the auto business.  fiat may be willing to cancel the  put  in exchange for money.'"
            ],
            "application/vnd.google.colaboratory.intrinsic+json": {
              "type": "string"
            }
          },
          "metadata": {},
          "execution_count": 17
        }
      ]
    },
    {
      "cell_type": "code",
      "source": [
        "data['Category'].value_counts(normalize=True)*100"
      ],
      "metadata": {
        "colab": {
          "base_uri": "https://localhost:8080/"
        },
        "id": "tFjzAYv825CZ",
        "outputId": "293a41ce-d42d-4ece-ef61-197028b266f1"
      },
      "execution_count": 18,
      "outputs": [
        {
          "output_type": "execute_result",
          "data": {
            "text/plain": [
              "sport            23.221477\n",
              "business         22.550336\n",
              "politics         18.389262\n",
              "entertainment    18.322148\n",
              "tech             17.516779\n",
              "Name: Category, dtype: float64"
            ]
          },
          "metadata": {},
          "execution_count": 18
        }
      ]
    },
    {
      "cell_type": "code",
      "source": [],
      "metadata": {
        "id": "yTEzdC5m3KTr"
      },
      "execution_count": null,
      "outputs": []
    }
  ]
}